{
 "cells": [
  {
   "cell_type": "markdown",
   "id": "Tms6Uh0AfES2",
   "metadata": {
    "id": "Tms6Uh0AfES2"
   },
   "source": [
    "## Portfolio Analysis of META and SPY for a period of 5 years\n",
    "**Date: 09/25**<br>"
   ]
  },
  {
   "cell_type": "markdown",
   "id": "hytV3SeKe1B3",
   "metadata": {
    "id": "hytV3SeKe1B3"
   },
   "source": [
    "### Objective: Using the Yahoo Finance Data for META and SPY compare the two securities, and determine which security performs better. The notebook includes vanilla analysis as well as risk equalised analysis\n",
    "\n",
    "### Part 1: Loading META and SPY Datasets\n",
    "\n",
    "Part 1 includes steps from question 1 to 9. The following steps will be operated:\n",
    "- Download from Yahoo Finance, price data for META and SPY for the period 12-31-2014 through 12-31-2019.\n",
    "- View the heads and tails to verify the correct dates.\n",
    "- Examine the data frame by looking at .info() and .isnull().\n",
    "- Remove the columns except for Adj Close and rename the column to the name of the security.\n",
    "- Examine the new dataframes.\n",
    "- Summerize the statistics using .describe() to check if there is any null value.\n",
    "- Plot data for each datasets.\n",
    "- Merge both datasets and plot a graph \n",
    "\n",
    "To get started, importing Pandas and Yfinance libraries."
   ]
  },
  {
   "cell_type": "markdown",
   "id": "df03048f-5d11-4fa5-9706-587f1e20485c",
   "metadata": {
    "tags": []
   },
   "source": [
    "### Download the Data from Yahoo Finance For META and SPY"
   ]
  },
  {
   "cell_type": "markdown",
   "id": "bf920b2f-0b68-4567-acb9-51ae22cfb118",
   "metadata": {},
   "source": [
    "#### Installing Yahoo Finance"
   ]
  },
  {
   "attachments": {
    "image.png": {
     "image/png": "[encoded data removed]"
    }
   },
   "cell_type": "markdown",
   "id": "323eb29c-6be1-4872-bbee-c98a8ae5c9bc",
   "metadata": {},
   "source": [
    "<i><b>Before installing, please make sure you have the latest version of Anaconda installed, as well as Python 3.9, and 3.10. For some odd reason yfinance requires some of the packages from Python 3.9 or 3.10, or else it may not install and will throw an error.</b></i> \n",
    "\n",
    "Please remove the # before !pip install finance and run that command. It should automatically install yfinance.\n",
    "\n",
    "![image.png](attachment:image.png)\n",
    "\n"
   ]
  },
  {
   "cell_type": "code",
   "execution_count": 2,
   "id": "25de5c7a-00d6-423d-9a18-e84894102a23",
   "metadata": {},
   "outputs": [],
   "source": [
    "# !pip install yfinance"
   ]
  },
  {
   "cell_type": "code",
   "execution_count": 3,
   "id": "6HjiNknCex_P",
   "metadata": {
    "id": "6HjiNknCex_P"
   },
   "outputs": [],
   "source": [
    "import pandas as pd\n",
    "import yfinance as yf"
   ]
  },
  {
   "cell_type": "code",
   "execution_count": 4,
   "id": "4b82ca29",
   "metadata": {
    "colab": {
     "base_uri": "https://localhost:8080/"
    },
    "id": "4b82ca29",
    "outputId": "458a538c-6723-4760-ea65-625f1a5eac94"
   },
   "outputs": [
    {
     "name": "stdout",
     "output_type": "stream",
     "text": [
      "[*********************100%***********************]  1 of 1 completed\n",
      "[*********************100%***********************]  1 of 1 completed\n"
     ]
    }
   ],
   "source": [
    "dfMETA = yf.download('META', '2014-12-31', '2020-01-01', group_by='ticker')\n",
    "dfSPY =  yf.download('SPY', '2014-12-31', '2020-01-01', group_by='ticker')"
   ]
  },
  {
   "cell_type": "markdown",
   "id": "fa62d8ee",
   "metadata": {
    "id": "fa62d8ee"
   },
   "source": [
    "### VIEW DataFrames for META and SPY"
   ]
  },
  {
   "cell_type": "code",
   "execution_count": 5,
   "id": "4aff1a88",
   "metadata": {
    "colab": {
     "base_uri": "https://localhost:8080/",
     "height": 269
    },
    "id": "4aff1a88",
    "outputId": "2844203d-7907-4163-df76-8a03006d7ef0"
   },
   "outputs": [
    {
     "data": {
      "text/html": [
       "<div>\n",
       "<style scoped>\n",
       "    .dataframe tbody tr th:only-of-type {\n",
       "        vertical-align: middle;\n",
       "    }\n",
       "\n",
       "    .dataframe tbody tr th {\n",
       "        vertical-align: top;\n",
       "    }\n",
       "\n",
       "    .dataframe thead th {\n",
       "        text-align: right;\n",
       "    }\n",
       "</style>\n",
       "<table border=\"1\" class=\"dataframe\">\n",
       "  <thead>\n",
       "    <tr style=\"text-align: right;\">\n",
       "      <th></th>\n",
       "      <th>Open</th>\n",
       "      <th>High</th>\n",
       "      <th>Low</th>\n",
       "      <th>Close</th>\n",
       "      <th>Adj Close</th>\n",
       "      <th>Volume</th>\n",
       "    </tr>\n",
       "    <tr>\n",
       "      <th>Date</th>\n",
       "      <th></th>\n",
       "      <th></th>\n",
       "      <th></th>\n",
       "      <th></th>\n",
       "      <th></th>\n",
       "      <th></th>\n",
       "    </tr>\n",
       "  </thead>\n",
       "  <tbody>\n",
       "    <tr>\n",
       "      <th>2014-12-31</th>\n",
       "      <td>79.540001</td>\n",
       "      <td>79.800003</td>\n",
       "      <td>77.860001</td>\n",
       "      <td>78.019997</td>\n",
       "      <td>78.019997</td>\n",
       "      <td>19935400</td>\n",
       "    </tr>\n",
       "    <tr>\n",
       "      <th>2015-01-02</th>\n",
       "      <td>78.580002</td>\n",
       "      <td>78.930000</td>\n",
       "      <td>77.699997</td>\n",
       "      <td>78.449997</td>\n",
       "      <td>78.449997</td>\n",
       "      <td>18177500</td>\n",
       "    </tr>\n",
       "    <tr>\n",
       "      <th>2015-01-05</th>\n",
       "      <td>77.980003</td>\n",
       "      <td>79.250000</td>\n",
       "      <td>76.860001</td>\n",
       "      <td>77.190002</td>\n",
       "      <td>77.190002</td>\n",
       "      <td>26452200</td>\n",
       "    </tr>\n",
       "    <tr>\n",
       "      <th>2015-01-06</th>\n",
       "      <td>77.230003</td>\n",
       "      <td>77.589996</td>\n",
       "      <td>75.360001</td>\n",
       "      <td>76.150002</td>\n",
       "      <td>76.150002</td>\n",
       "      <td>27399300</td>\n",
       "    </tr>\n",
       "    <tr>\n",
       "      <th>2015-01-07</th>\n",
       "      <td>76.760002</td>\n",
       "      <td>77.360001</td>\n",
       "      <td>75.820000</td>\n",
       "      <td>76.150002</td>\n",
       "      <td>76.150002</td>\n",
       "      <td>22045300</td>\n",
       "    </tr>\n",
       "  </tbody>\n",
       "</table>\n",
       "</div>"
      ],
      "text/plain": [
       "                 Open       High        Low      Close  Adj Close    Volume\n",
       "Date                                                                       \n",
       "2014-12-31  79.540001  79.800003  77.860001  78.019997  78.019997  19935400\n",
       "2015-01-02  78.580002  78.930000  77.699997  78.449997  78.449997  18177500\n",
       "2015-01-05  77.980003  79.250000  76.860001  77.190002  77.190002  26452200\n",
       "2015-01-06  77.230003  77.589996  75.360001  76.150002  76.150002  27399300\n",
       "2015-01-07  76.760002  77.360001  75.820000  76.150002  76.150002  22045300"
      ]
     },
     "execution_count": 5,
     "metadata": {},
     "output_type": "execute_result"
    }
   ],
   "source": [
    "dfMETA.head()"
   ]
  },
  {
   "cell_type": "code",
   "execution_count": 6,
   "id": "eb68ae97",
   "metadata": {
    "colab": {
     "base_uri": "https://localhost:8080/",
     "height": 269
    },
    "id": "eb68ae97",
    "outputId": "f80f120a-9308-459c-e78e-6ad38466dd56",
    "tags": []
   },
   "outputs": [
    {
     "data": {
      "text/html": [
       "<div>\n",
       "<style scoped>\n",
       "    .dataframe tbody tr th:only-of-type {\n",
       "        vertical-align: middle;\n",
       "    }\n",
       "\n",
       "    .dataframe tbody tr th {\n",
       "        vertical-align: top;\n",
       "    }\n",
       "\n",
       "    .dataframe thead th {\n",
       "        text-align: right;\n",
       "    }\n",
       "</style>\n",
       "<table border=\"1\" class=\"dataframe\">\n",
       "  <thead>\n",
       "    <tr style=\"text-align: right;\">\n",
       "      <th></th>\n",
       "      <th>Open</th>\n",
       "      <th>High</th>\n",
       "      <th>Low</th>\n",
       "      <th>Close</th>\n",
       "      <th>Adj Close</th>\n",
       "      <th>Volume</th>\n",
       "    </tr>\n",
       "    <tr>\n",
       "      <th>Date</th>\n",
       "      <th></th>\n",
       "      <th></th>\n",
       "      <th></th>\n",
       "      <th></th>\n",
       "      <th></th>\n",
       "      <th></th>\n",
       "    </tr>\n",
       "  </thead>\n",
       "  <tbody>\n",
       "    <tr>\n",
       "      <th>2019-12-24</th>\n",
       "      <td>206.300003</td>\n",
       "      <td>206.789993</td>\n",
       "      <td>205.000000</td>\n",
       "      <td>205.119995</td>\n",
       "      <td>205.119995</td>\n",
       "      <td>6046300</td>\n",
       "    </tr>\n",
       "    <tr>\n",
       "      <th>2019-12-26</th>\n",
       "      <td>205.570007</td>\n",
       "      <td>207.820007</td>\n",
       "      <td>205.309998</td>\n",
       "      <td>207.789993</td>\n",
       "      <td>207.789993</td>\n",
       "      <td>9350700</td>\n",
       "    </tr>\n",
       "    <tr>\n",
       "      <th>2019-12-27</th>\n",
       "      <td>208.669998</td>\n",
       "      <td>208.929993</td>\n",
       "      <td>206.589996</td>\n",
       "      <td>208.100006</td>\n",
       "      <td>208.100006</td>\n",
       "      <td>10284200</td>\n",
       "    </tr>\n",
       "    <tr>\n",
       "      <th>2019-12-30</th>\n",
       "      <td>207.860001</td>\n",
       "      <td>207.899994</td>\n",
       "      <td>203.899994</td>\n",
       "      <td>204.410004</td>\n",
       "      <td>204.410004</td>\n",
       "      <td>10524300</td>\n",
       "    </tr>\n",
       "    <tr>\n",
       "      <th>2019-12-31</th>\n",
       "      <td>204.000000</td>\n",
       "      <td>205.559998</td>\n",
       "      <td>203.600006</td>\n",
       "      <td>205.250000</td>\n",
       "      <td>205.250000</td>\n",
       "      <td>8953500</td>\n",
       "    </tr>\n",
       "  </tbody>\n",
       "</table>\n",
       "</div>"
      ],
      "text/plain": [
       "                  Open        High         Low       Close   Adj Close  \\\n",
       "Date                                                                     \n",
       "2019-12-24  206.300003  206.789993  205.000000  205.119995  205.119995   \n",
       "2019-12-26  205.570007  207.820007  205.309998  207.789993  207.789993   \n",
       "2019-12-27  208.669998  208.929993  206.589996  208.100006  208.100006   \n",
       "2019-12-30  207.860001  207.899994  203.899994  204.410004  204.410004   \n",
       "2019-12-31  204.000000  205.559998  203.600006  205.250000  205.250000   \n",
       "\n",
       "              Volume  \n",
       "Date                  \n",
       "2019-12-24   6046300  \n",
       "2019-12-26   9350700  \n",
       "2019-12-27  10284200  \n",
       "2019-12-30  10524300  \n",
       "2019-12-31   8953500  "
      ]
     },
     "execution_count": 6,
     "metadata": {},
     "output_type": "execute_result"
    }
   ],
   "source": [
    "dfMETA.tail()"
   ]
  },
  {
   "cell_type": "code",
   "execution_count": 7,
   "id": "b4c290c4-f4a9-4ce3-90fd-7f17d6a8a8b3",
   "metadata": {},
   "outputs": [
    {
     "data": {
      "text/html": [
       "<div>\n",
       "<style scoped>\n",
       "    .dataframe tbody tr th:only-of-type {\n",
       "        vertical-align: middle;\n",
       "    }\n",
       "\n",
       "    .dataframe tbody tr th {\n",
       "        vertical-align: top;\n",
       "    }\n",
       "\n",
       "    .dataframe thead th {\n",
       "        text-align: right;\n",
       "    }\n",
       "</style>\n",
       "<table border=\"1\" class=\"dataframe\">\n",
       "  <thead>\n",
       "    <tr style=\"text-align: right;\">\n",
       "      <th></th>\n",
       "      <th>Open</th>\n",
       "      <th>High</th>\n",
       "      <th>Low</th>\n",
       "      <th>Close</th>\n",
       "      <th>Adj Close</th>\n",
       "      <th>Volume</th>\n",
       "    </tr>\n",
       "    <tr>\n",
       "      <th>Date</th>\n",
       "      <th></th>\n",
       "      <th></th>\n",
       "      <th></th>\n",
       "      <th></th>\n",
       "      <th></th>\n",
       "      <th></th>\n",
       "    </tr>\n",
       "  </thead>\n",
       "  <tbody>\n",
       "    <tr>\n",
       "      <th>2014-12-31</th>\n",
       "      <td>207.990005</td>\n",
       "      <td>208.190002</td>\n",
       "      <td>205.389999</td>\n",
       "      <td>205.539993</td>\n",
       "      <td>178.373993</td>\n",
       "      <td>130333800</td>\n",
       "    </tr>\n",
       "    <tr>\n",
       "      <th>2015-01-02</th>\n",
       "      <td>206.380005</td>\n",
       "      <td>206.880005</td>\n",
       "      <td>204.179993</td>\n",
       "      <td>205.429993</td>\n",
       "      <td>178.278519</td>\n",
       "      <td>121465900</td>\n",
       "    </tr>\n",
       "    <tr>\n",
       "      <th>2015-01-05</th>\n",
       "      <td>204.169998</td>\n",
       "      <td>204.369995</td>\n",
       "      <td>201.350006</td>\n",
       "      <td>201.720001</td>\n",
       "      <td>175.058899</td>\n",
       "      <td>169632600</td>\n",
       "    </tr>\n",
       "    <tr>\n",
       "      <th>2015-01-06</th>\n",
       "      <td>202.089996</td>\n",
       "      <td>202.720001</td>\n",
       "      <td>198.860001</td>\n",
       "      <td>199.820007</td>\n",
       "      <td>173.409988</td>\n",
       "      <td>209151400</td>\n",
       "    </tr>\n",
       "    <tr>\n",
       "      <th>2015-01-07</th>\n",
       "      <td>201.419998</td>\n",
       "      <td>202.720001</td>\n",
       "      <td>200.880005</td>\n",
       "      <td>202.309998</td>\n",
       "      <td>175.570908</td>\n",
       "      <td>125346700</td>\n",
       "    </tr>\n",
       "  </tbody>\n",
       "</table>\n",
       "</div>"
      ],
      "text/plain": [
       "                  Open        High         Low       Close   Adj Close  \\\n",
       "Date                                                                     \n",
       "2014-12-31  207.990005  208.190002  205.389999  205.539993  178.373993   \n",
       "2015-01-02  206.380005  206.880005  204.179993  205.429993  178.278519   \n",
       "2015-01-05  204.169998  204.369995  201.350006  201.720001  175.058899   \n",
       "2015-01-06  202.089996  202.720001  198.860001  199.820007  173.409988   \n",
       "2015-01-07  201.419998  202.720001  200.880005  202.309998  175.570908   \n",
       "\n",
       "               Volume  \n",
       "Date                   \n",
       "2014-12-31  130333800  \n",
       "2015-01-02  121465900  \n",
       "2015-01-05  169632600  \n",
       "2015-01-06  209151400  \n",
       "2015-01-07  125346700  "
      ]
     },
     "execution_count": 7,
     "metadata": {},
     "output_type": "execute_result"
    }
   ],
   "source": [
    "dfSPY.head()"
   ]
  },
  {
   "cell_type": "code",
   "execution_count": 8,
   "id": "d9f9443f-8210-4fdd-b148-96a7b92d90a2",
   "metadata": {},
   "outputs": [
    {
     "data": {
      "text/html": [
       "<div>\n",
       "<style scoped>\n",
       "    .dataframe tbody tr th:only-of-type {\n",
       "        vertical-align: middle;\n",
       "    }\n",
       "\n",
       "    .dataframe tbody tr th {\n",
       "        vertical-align: top;\n",
       "    }\n",
       "\n",
       "    .dataframe thead th {\n",
       "        text-align: right;\n",
       "    }\n",
       "</style>\n",
       "<table border=\"1\" class=\"dataframe\">\n",
       "  <thead>\n",
       "    <tr style=\"text-align: right;\">\n",
       "      <th></th>\n",
       "      <th>Open</th>\n",
       "      <th>High</th>\n",
       "      <th>Low</th>\n",
       "      <th>Close</th>\n",
       "      <th>Adj Close</th>\n",
       "      <th>Volume</th>\n",
       "    </tr>\n",
       "    <tr>\n",
       "      <th>Date</th>\n",
       "      <th></th>\n",
       "      <th></th>\n",
       "      <th></th>\n",
       "      <th></th>\n",
       "      <th></th>\n",
       "      <th></th>\n",
       "    </tr>\n",
       "  </thead>\n",
       "  <tbody>\n",
       "    <tr>\n",
       "      <th>2019-12-24</th>\n",
       "      <td>321.470001</td>\n",
       "      <td>321.519989</td>\n",
       "      <td>320.899994</td>\n",
       "      <td>321.230011</td>\n",
       "      <td>307.631134</td>\n",
       "      <td>20270000</td>\n",
       "    </tr>\n",
       "    <tr>\n",
       "      <th>2019-12-26</th>\n",
       "      <td>321.649994</td>\n",
       "      <td>322.950012</td>\n",
       "      <td>321.640015</td>\n",
       "      <td>322.940002</td>\n",
       "      <td>309.268768</td>\n",
       "      <td>30911200</td>\n",
       "    </tr>\n",
       "    <tr>\n",
       "      <th>2019-12-27</th>\n",
       "      <td>323.739990</td>\n",
       "      <td>323.799988</td>\n",
       "      <td>322.279999</td>\n",
       "      <td>322.859985</td>\n",
       "      <td>309.192078</td>\n",
       "      <td>42528800</td>\n",
       "    </tr>\n",
       "    <tr>\n",
       "      <th>2019-12-30</th>\n",
       "      <td>322.950012</td>\n",
       "      <td>323.100006</td>\n",
       "      <td>320.549988</td>\n",
       "      <td>321.079987</td>\n",
       "      <td>307.487427</td>\n",
       "      <td>49729100</td>\n",
       "    </tr>\n",
       "    <tr>\n",
       "      <th>2019-12-31</th>\n",
       "      <td>320.529999</td>\n",
       "      <td>322.130005</td>\n",
       "      <td>320.149994</td>\n",
       "      <td>321.859985</td>\n",
       "      <td>308.234375</td>\n",
       "      <td>57077300</td>\n",
       "    </tr>\n",
       "  </tbody>\n",
       "</table>\n",
       "</div>"
      ],
      "text/plain": [
       "                  Open        High         Low       Close   Adj Close  \\\n",
       "Date                                                                     \n",
       "2019-12-24  321.470001  321.519989  320.899994  321.230011  307.631134   \n",
       "2019-12-26  321.649994  322.950012  321.640015  322.940002  309.268768   \n",
       "2019-12-27  323.739990  323.799988  322.279999  322.859985  309.192078   \n",
       "2019-12-30  322.950012  323.100006  320.549988  321.079987  307.487427   \n",
       "2019-12-31  320.529999  322.130005  320.149994  321.859985  308.234375   \n",
       "\n",
       "              Volume  \n",
       "Date                  \n",
       "2019-12-24  20270000  \n",
       "2019-12-26  30911200  \n",
       "2019-12-27  42528800  \n",
       "2019-12-30  49729100  \n",
       "2019-12-31  57077300  "
      ]
     },
     "execution_count": 8,
     "metadata": {},
     "output_type": "execute_result"
    }
   ],
   "source": [
    "dfSPY.tail()"
   ]
  },
  {
   "cell_type": "markdown",
   "id": "1e6d45b4",
   "metadata": {
    "id": "1e6d45b4"
   },
   "source": [
    "### Examine META Aand SPY DataFrames"
   ]
  },
  {
   "cell_type": "code",
   "execution_count": 9,
   "id": "1877f155",
   "metadata": {
    "colab": {
     "base_uri": "https://localhost:8080/"
    },
    "id": "1877f155",
    "outputId": "1b39487a-a99f-4e65-ee11-fcc5b5b210d3"
   },
   "outputs": [
    {
     "name": "stdout",
     "output_type": "stream",
     "text": [
      "<class 'pandas.core.frame.DataFrame'>\n",
      "DatetimeIndex: 1259 entries, 2014-12-31 to 2019-12-31\n",
      "Data columns (total 6 columns):\n",
      " #   Column     Non-Null Count  Dtype  \n",
      "---  ------     --------------  -----  \n",
      " 0   Open       1259 non-null   float64\n",
      " 1   High       1259 non-null   float64\n",
      " 2   Low        1259 non-null   float64\n",
      " 3   Close      1259 non-null   float64\n",
      " 4   Adj Close  1259 non-null   float64\n",
      " 5   Volume     1259 non-null   int64  \n",
      "dtypes: float64(5), int64(1)\n",
      "memory usage: 68.9 KB\n"
     ]
    }
   ],
   "source": [
    "dfMETA.info()"
   ]
  },
  {
   "cell_type": "code",
   "execution_count": 10,
   "id": "d9475c3b",
   "metadata": {
    "colab": {
     "base_uri": "https://localhost:8080/"
    },
    "id": "d9475c3b",
    "outputId": "841c95e8-2928-49ff-9e7c-1d6f94055ba4"
   },
   "outputs": [
    {
     "data": {
      "text/plain": [
       "Open         0\n",
       "High         0\n",
       "Low          0\n",
       "Close        0\n",
       "Adj Close    0\n",
       "Volume       0\n",
       "dtype: int64"
      ]
     },
     "execution_count": 10,
     "metadata": {},
     "output_type": "execute_result"
    }
   ],
   "source": [
    "dfMETA.isnull().sum()"
   ]
  },
  {
   "cell_type": "code",
   "execution_count": 11,
   "id": "27130272-c0c6-4e35-93e2-af075f96e043",
   "metadata": {},
   "outputs": [
    {
     "name": "stdout",
     "output_type": "stream",
     "text": [
      "<class 'pandas.core.frame.DataFrame'>\n",
      "DatetimeIndex: 1259 entries, 2014-12-31 to 2019-12-31\n",
      "Data columns (total 6 columns):\n",
      " #   Column     Non-Null Count  Dtype  \n",
      "---  ------     --------------  -----  \n",
      " 0   Open       1259 non-null   float64\n",
      " 1   High       1259 non-null   float64\n",
      " 2   Low        1259 non-null   float64\n",
      " 3   Close      1259 non-null   float64\n",
      " 4   Adj Close  1259 non-null   float64\n",
      " 5   Volume     1259 non-null   int64  \n",
      "dtypes: float64(5), int64(1)\n",
      "memory usage: 68.9 KB\n"
     ]
    }
   ],
   "source": [
    "dfSPY.info()"
   ]
  },
  {
   "cell_type": "code",
   "execution_count": 12,
   "id": "52f143b5-d300-48b7-96a5-bbd46bb3e28b",
   "metadata": {},
   "outputs": [
    {
     "data": {
      "text/plain": [
       "Open         0\n",
       "High         0\n",
       "Low          0\n",
       "Close        0\n",
       "Adj Close    0\n",
       "Volume       0\n",
       "dtype: int64"
      ]
     },
     "execution_count": 12,
     "metadata": {},
     "output_type": "execute_result"
    }
   ],
   "source": [
    "dfSPY.isnull().sum()"
   ]
  },
  {
   "cell_type": "markdown",
   "id": "6e700bb3",
   "metadata": {
    "id": "6e700bb3"
   },
   "source": [
    "### Create new DataFrames with Adj Close Column"
   ]
  },
  {
   "cell_type": "code",
   "execution_count": 13,
   "id": "16ff6f78-66ca-485b-81ec-77b2566d6961",
   "metadata": {},
   "outputs": [],
   "source": [
    "dfMETA = dfMETA[['Adj Close']].rename(columns={'Adj Close': 'META'})"
   ]
  },
  {
   "cell_type": "code",
   "execution_count": 14,
   "id": "2410cc20-403d-42c4-80b2-f242a7c29c36",
   "metadata": {},
   "outputs": [],
   "source": [
    "dfSPY = dfSPY[['Adj Close']].rename(columns={'Adj Close': 'SPY'})"
   ]
  },
  {
   "cell_type": "markdown",
   "id": "cf8396f2-584f-4307-b4f1-d7b249286be2",
   "metadata": {},
   "source": [
    "### Summary Statistics for META and SPY"
   ]
  },
  {
   "cell_type": "code",
   "execution_count": 15,
   "id": "5b661a5a-8151-4b1e-b154-eae00e87632a",
   "metadata": {},
   "outputs": [
    {
     "data": {
      "text/html": [
       "<div>\n",
       "<style scoped>\n",
       "    .dataframe tbody tr th:only-of-type {\n",
       "        vertical-align: middle;\n",
       "    }\n",
       "\n",
       "    .dataframe tbody tr th {\n",
       "        vertical-align: top;\n",
       "    }\n",
       "\n",
       "    .dataframe thead th {\n",
       "        text-align: right;\n",
       "    }\n",
       "</style>\n",
       "<table border=\"1\" class=\"dataframe\">\n",
       "  <thead>\n",
       "    <tr style=\"text-align: right;\">\n",
       "      <th></th>\n",
       "      <th>META</th>\n",
       "    </tr>\n",
       "  </thead>\n",
       "  <tbody>\n",
       "    <tr>\n",
       "      <th>count</th>\n",
       "      <td>1259.000000</td>\n",
       "    </tr>\n",
       "    <tr>\n",
       "      <th>mean</th>\n",
       "      <td>143.021716</td>\n",
       "    </tr>\n",
       "    <tr>\n",
       "      <th>std</th>\n",
       "      <td>38.115739</td>\n",
       "    </tr>\n",
       "    <tr>\n",
       "      <th>min</th>\n",
       "      <td>74.050003</td>\n",
       "    </tr>\n",
       "    <tr>\n",
       "      <th>25%</th>\n",
       "      <td>112.130001</td>\n",
       "    </tr>\n",
       "    <tr>\n",
       "      <th>50%</th>\n",
       "      <td>145.470001</td>\n",
       "    </tr>\n",
       "    <tr>\n",
       "      <th>75%</th>\n",
       "      <td>177.544998</td>\n",
       "    </tr>\n",
       "    <tr>\n",
       "      <th>max</th>\n",
       "      <td>217.500000</td>\n",
       "    </tr>\n",
       "  </tbody>\n",
       "</table>\n",
       "</div>"
      ],
      "text/plain": [
       "              META\n",
       "count  1259.000000\n",
       "mean    143.021716\n",
       "std      38.115739\n",
       "min      74.050003\n",
       "25%     112.130001\n",
       "50%     145.470001\n",
       "75%     177.544998\n",
       "max     217.500000"
      ]
     },
     "execution_count": 15,
     "metadata": {},
     "output_type": "execute_result"
    }
   ],
   "source": [
    "dfMETA.describe()"
   ]
  },
  {
   "cell_type": "code",
   "execution_count": 16,
   "id": "7eee5250-86ed-4cb9-95fd-88f2c7b2ec62",
   "metadata": {},
   "outputs": [
    {
     "data": {
      "text/html": [
       "<div>\n",
       "<style scoped>\n",
       "    .dataframe tbody tr th:only-of-type {\n",
       "        vertical-align: middle;\n",
       "    }\n",
       "\n",
       "    .dataframe tbody tr th {\n",
       "        vertical-align: top;\n",
       "    }\n",
       "\n",
       "    .dataframe thead th {\n",
       "        text-align: right;\n",
       "    }\n",
       "</style>\n",
       "<table border=\"1\" class=\"dataframe\">\n",
       "  <thead>\n",
       "    <tr style=\"text-align: right;\">\n",
       "      <th></th>\n",
       "      <th>SPY</th>\n",
       "    </tr>\n",
       "  </thead>\n",
       "  <tbody>\n",
       "    <tr>\n",
       "      <th>count</th>\n",
       "      <td>1259.000000</td>\n",
       "    </tr>\n",
       "    <tr>\n",
       "      <th>mean</th>\n",
       "      <td>224.167914</td>\n",
       "    </tr>\n",
       "    <tr>\n",
       "      <th>std</th>\n",
       "      <td>38.658372</td>\n",
       "    </tr>\n",
       "    <tr>\n",
       "      <th>min</th>\n",
       "      <td>161.966309</td>\n",
       "    </tr>\n",
       "    <tr>\n",
       "      <th>25%</th>\n",
       "      <td>184.662376</td>\n",
       "    </tr>\n",
       "    <tr>\n",
       "      <th>50%</th>\n",
       "      <td>221.798569</td>\n",
       "    </tr>\n",
       "    <tr>\n",
       "      <th>75%</th>\n",
       "      <td>257.593369</td>\n",
       "    </tr>\n",
       "    <tr>\n",
       "      <th>max</th>\n",
       "      <td>309.268768</td>\n",
       "    </tr>\n",
       "  </tbody>\n",
       "</table>\n",
       "</div>"
      ],
      "text/plain": [
       "               SPY\n",
       "count  1259.000000\n",
       "mean    224.167914\n",
       "std      38.658372\n",
       "min     161.966309\n",
       "25%     184.662376\n",
       "50%     221.798569\n",
       "75%     257.593369\n",
       "max     309.268768"
      ]
     },
     "execution_count": 16,
     "metadata": {},
     "output_type": "execute_result"
    }
   ],
   "source": [
    "dfSPY.describe()"
   ]
  },
  {
   "cell_type": "code",
   "execution_count": 17,
   "id": "bef54b19-190a-4c2d-99da-a3732e53e7dd",
   "metadata": {},
   "outputs": [
    {
     "data": {
      "text/plain": [
       "META    0\n",
       "dtype: int64"
      ]
     },
     "execution_count": 17,
     "metadata": {},
     "output_type": "execute_result"
    }
   ],
   "source": [
    "dfMETA.isna().sum()"
   ]
  },
  {
   "cell_type": "code",
   "execution_count": 18,
   "id": "e6b12ddc-f56f-494d-9d1e-091510fee83a",
   "metadata": {},
   "outputs": [
    {
     "data": {
      "text/plain": [
       "SPY    0\n",
       "dtype: int64"
      ]
     },
     "execution_count": 18,
     "metadata": {},
     "output_type": "execute_result"
    }
   ],
   "source": [
    "dfSPY.isna().sum()"
   ]
  },
  {
   "cell_type": "markdown",
   "id": "3b749451-2a32-4bfe-804c-20e9a3be2a4b",
   "metadata": {},
   "source": [
    "#### From the description we can ensure that there are no missing values and anomalies in the new dataFrames"
   ]
  },
  {
   "cell_type": "markdown",
   "id": "af4ad5e8-9de6-4ac4-971c-4b391d4075b5",
   "metadata": {},
   "source": [
    "### Plot the Data for META and SPY"
   ]
  },
  {
   "cell_type": "code",
   "execution_count": 19,
   "id": "9c93f1b8-026b-4308-b83c-71d8e418725c",
   "metadata": {},
   "outputs": [
    {
     "data": {
      "text/plain": [
       "<AxesSubplot:xlabel='Date'>"
      ]
     },
     "execution_count": 19,
     "metadata": {},
     "output_type": "execute_result"
    },
    {
     "data": {
      "image/png": "[encoded data removed]",
      "text/plain": [
       "<Figure size 1152x648 with 1 Axes>"
      ]
     },
     "metadata": {
      "needs_background": "light"
     },
     "output_type": "display_data"
    }
   ],
   "source": [
    "dfMETA.plot(figsize=(16, 9))"
   ]
  },
  {
   "cell_type": "code",
   "execution_count": 20,
   "id": "e19d09bc-819b-4ee4-a003-ae0c1c2fbfd7",
   "metadata": {},
   "outputs": [
    {
     "data": {
      "text/plain": [
       "<AxesSubplot:xlabel='Date'>"
      ]
     },
     "execution_count": 20,
     "metadata": {},
     "output_type": "execute_result"
    },
    {
     "data": {
      "image/png": "[encoded data removed]",
      "text/plain": [
       "<Figure size 1152x648 with 1 Axes>"
      ]
     },
     "metadata": {
      "needs_background": "light"
     },
     "output_type": "display_data"
    }
   ],
   "source": [
    "dfSPY.plot(figsize=(16, 9), color = {\"pink\"})"
   ]
  },
  {
   "cell_type": "markdown",
   "id": "8ab83d85-4c59-4594-a956-d6c1b609af35",
   "metadata": {},
   "source": [
    "### Combining the META and SPY DataFrames"
   ]
  },
  {
   "cell_type": "code",
   "execution_count": 21,
   "id": "9d4e0d87-53df-4cab-a0a0-ffc90d2b857b",
   "metadata": {},
   "outputs": [],
   "source": [
    "dfBoth = dfMETA.join(dfSPY, how ='inner')"
   ]
  },
  {
   "cell_type": "code",
   "execution_count": 22,
   "id": "3a264a11",
   "metadata": {
    "colab": {
     "base_uri": "https://localhost:8080/",
     "height": 238
    },
    "id": "3a264a11",
    "outputId": "909f7089-69db-4de3-ffca-9efb9c4fb7fd"
   },
   "outputs": [
    {
     "data": {
      "text/html": [
       "<div>\n",
       "<style scoped>\n",
       "    .dataframe tbody tr th:only-of-type {\n",
       "        vertical-align: middle;\n",
       "    }\n",
       "\n",
       "    .dataframe tbody tr th {\n",
       "        vertical-align: top;\n",
       "    }\n",
       "\n",
       "    .dataframe thead th {\n",
       "        text-align: right;\n",
       "    }\n",
       "</style>\n",
       "<table border=\"1\" class=\"dataframe\">\n",
       "  <thead>\n",
       "    <tr style=\"text-align: right;\">\n",
       "      <th></th>\n",
       "      <th>META</th>\n",
       "      <th>SPY</th>\n",
       "    </tr>\n",
       "    <tr>\n",
       "      <th>Date</th>\n",
       "      <th></th>\n",
       "      <th></th>\n",
       "    </tr>\n",
       "  </thead>\n",
       "  <tbody>\n",
       "    <tr>\n",
       "      <th>2014-12-31</th>\n",
       "      <td>78.019997</td>\n",
       "      <td>178.373993</td>\n",
       "    </tr>\n",
       "    <tr>\n",
       "      <th>2015-01-02</th>\n",
       "      <td>78.449997</td>\n",
       "      <td>178.278519</td>\n",
       "    </tr>\n",
       "    <tr>\n",
       "      <th>2015-01-05</th>\n",
       "      <td>77.190002</td>\n",
       "      <td>175.058899</td>\n",
       "    </tr>\n",
       "    <tr>\n",
       "      <th>2015-01-06</th>\n",
       "      <td>76.150002</td>\n",
       "      <td>173.409988</td>\n",
       "    </tr>\n",
       "    <tr>\n",
       "      <th>2015-01-07</th>\n",
       "      <td>76.150002</td>\n",
       "      <td>175.570908</td>\n",
       "    </tr>\n",
       "  </tbody>\n",
       "</table>\n",
       "</div>"
      ],
      "text/plain": [
       "                 META         SPY\n",
       "Date                             \n",
       "2014-12-31  78.019997  178.373993\n",
       "2015-01-02  78.449997  178.278519\n",
       "2015-01-05  77.190002  175.058899\n",
       "2015-01-06  76.150002  173.409988\n",
       "2015-01-07  76.150002  175.570908"
      ]
     },
     "execution_count": 22,
     "metadata": {},
     "output_type": "execute_result"
    }
   ],
   "source": [
    "dfBoth.head()"
   ]
  },
  {
   "cell_type": "code",
   "execution_count": 23,
   "id": "67273ee5",
   "metadata": {
    "colab": {
     "base_uri": "https://localhost:8080/",
     "height": 238
    },
    "id": "67273ee5",
    "outputId": "9f9d40b2-93bb-4c71-c9b2-396fac54b48a"
   },
   "outputs": [
    {
     "data": {
      "text/html": [
       "<div>\n",
       "<style scoped>\n",
       "    .dataframe tbody tr th:only-of-type {\n",
       "        vertical-align: middle;\n",
       "    }\n",
       "\n",
       "    .dataframe tbody tr th {\n",
       "        vertical-align: top;\n",
       "    }\n",
       "\n",
       "    .dataframe thead th {\n",
       "        text-align: right;\n",
       "    }\n",
       "</style>\n",
       "<table border=\"1\" class=\"dataframe\">\n",
       "  <thead>\n",
       "    <tr style=\"text-align: right;\">\n",
       "      <th></th>\n",
       "      <th>META</th>\n",
       "      <th>SPY</th>\n",
       "    </tr>\n",
       "    <tr>\n",
       "      <th>Date</th>\n",
       "      <th></th>\n",
       "      <th></th>\n",
       "    </tr>\n",
       "  </thead>\n",
       "  <tbody>\n",
       "    <tr>\n",
       "      <th>2019-12-24</th>\n",
       "      <td>205.119995</td>\n",
       "      <td>307.631134</td>\n",
       "    </tr>\n",
       "    <tr>\n",
       "      <th>2019-12-26</th>\n",
       "      <td>207.789993</td>\n",
       "      <td>309.268768</td>\n",
       "    </tr>\n",
       "    <tr>\n",
       "      <th>2019-12-27</th>\n",
       "      <td>208.100006</td>\n",
       "      <td>309.192078</td>\n",
       "    </tr>\n",
       "    <tr>\n",
       "      <th>2019-12-30</th>\n",
       "      <td>204.410004</td>\n",
       "      <td>307.487427</td>\n",
       "    </tr>\n",
       "    <tr>\n",
       "      <th>2019-12-31</th>\n",
       "      <td>205.250000</td>\n",
       "      <td>308.234375</td>\n",
       "    </tr>\n",
       "  </tbody>\n",
       "</table>\n",
       "</div>"
      ],
      "text/plain": [
       "                  META         SPY\n",
       "Date                              \n",
       "2019-12-24  205.119995  307.631134\n",
       "2019-12-26  207.789993  309.268768\n",
       "2019-12-27  208.100006  309.192078\n",
       "2019-12-30  204.410004  307.487427\n",
       "2019-12-31  205.250000  308.234375"
      ]
     },
     "execution_count": 23,
     "metadata": {},
     "output_type": "execute_result"
    }
   ],
   "source": [
    "dfBoth.tail()"
   ]
  },
  {
   "cell_type": "code",
   "execution_count": 24,
   "id": "a245ed03",
   "metadata": {
    "colab": {
     "base_uri": "https://localhost:8080/",
     "height": 300
    },
    "id": "a245ed03",
    "outputId": "3ced2b60-c03e-4860-e3e6-f8d848473d4d"
   },
   "outputs": [
    {
     "data": {
      "text/html": [
       "<div>\n",
       "<style scoped>\n",
       "    .dataframe tbody tr th:only-of-type {\n",
       "        vertical-align: middle;\n",
       "    }\n",
       "\n",
       "    .dataframe tbody tr th {\n",
       "        vertical-align: top;\n",
       "    }\n",
       "\n",
       "    .dataframe thead th {\n",
       "        text-align: right;\n",
       "    }\n",
       "</style>\n",
       "<table border=\"1\" class=\"dataframe\">\n",
       "  <thead>\n",
       "    <tr style=\"text-align: right;\">\n",
       "      <th></th>\n",
       "      <th>META</th>\n",
       "      <th>SPY</th>\n",
       "    </tr>\n",
       "  </thead>\n",
       "  <tbody>\n",
       "    <tr>\n",
       "      <th>count</th>\n",
       "      <td>1259.000000</td>\n",
       "      <td>1259.000000</td>\n",
       "    </tr>\n",
       "    <tr>\n",
       "      <th>mean</th>\n",
       "      <td>143.021716</td>\n",
       "      <td>224.167914</td>\n",
       "    </tr>\n",
       "    <tr>\n",
       "      <th>std</th>\n",
       "      <td>38.115739</td>\n",
       "      <td>38.658372</td>\n",
       "    </tr>\n",
       "    <tr>\n",
       "      <th>min</th>\n",
       "      <td>74.050003</td>\n",
       "      <td>161.966309</td>\n",
       "    </tr>\n",
       "    <tr>\n",
       "      <th>25%</th>\n",
       "      <td>112.130001</td>\n",
       "      <td>184.662376</td>\n",
       "    </tr>\n",
       "    <tr>\n",
       "      <th>50%</th>\n",
       "      <td>145.470001</td>\n",
       "      <td>221.798569</td>\n",
       "    </tr>\n",
       "    <tr>\n",
       "      <th>75%</th>\n",
       "      <td>177.544998</td>\n",
       "      <td>257.593369</td>\n",
       "    </tr>\n",
       "    <tr>\n",
       "      <th>max</th>\n",
       "      <td>217.500000</td>\n",
       "      <td>309.268768</td>\n",
       "    </tr>\n",
       "  </tbody>\n",
       "</table>\n",
       "</div>"
      ],
      "text/plain": [
       "              META          SPY\n",
       "count  1259.000000  1259.000000\n",
       "mean    143.021716   224.167914\n",
       "std      38.115739    38.658372\n",
       "min      74.050003   161.966309\n",
       "25%     112.130001   184.662376\n",
       "50%     145.470001   221.798569\n",
       "75%     177.544998   257.593369\n",
       "max     217.500000   309.268768"
      ]
     },
     "execution_count": 24,
     "metadata": {},
     "output_type": "execute_result"
    }
   ],
   "source": [
    "dfBoth.describe()"
   ]
  },
  {
   "cell_type": "code",
   "execution_count": 25,
   "id": "89a682a6",
   "metadata": {
    "colab": {
     "base_uri": "https://localhost:8080/"
    },
    "id": "89a682a6",
    "outputId": "a455c9cd-3a0a-476a-803f-b7826bc1fab4"
   },
   "outputs": [
    {
     "name": "stdout",
     "output_type": "stream",
     "text": [
      "<class 'pandas.core.frame.DataFrame'>\n",
      "DatetimeIndex: 1259 entries, 2014-12-31 to 2019-12-31\n",
      "Data columns (total 2 columns):\n",
      " #   Column  Non-Null Count  Dtype  \n",
      "---  ------  --------------  -----  \n",
      " 0   META    1259 non-null   float64\n",
      " 1   SPY     1259 non-null   float64\n",
      "dtypes: float64(2)\n",
      "memory usage: 61.8 KB\n"
     ]
    }
   ],
   "source": [
    "dfBoth.info()"
   ]
  },
  {
   "cell_type": "code",
   "execution_count": 26,
   "id": "7acf9eef",
   "metadata": {
    "colab": {
     "base_uri": "https://localhost:8080/"
    },
    "id": "7acf9eef",
    "outputId": "97e01dae-1b31-48b3-e47c-99eae961591b"
   },
   "outputs": [
    {
     "data": {
      "text/plain": [
       "META    0\n",
       "SPY     0\n",
       "dtype: int64"
      ]
     },
     "execution_count": 26,
     "metadata": {},
     "output_type": "execute_result"
    }
   ],
   "source": [
    "dfBoth.isnull().sum()"
   ]
  },
  {
   "cell_type": "code",
   "execution_count": 27,
   "id": "1844b4bf",
   "metadata": {
    "colab": {
     "base_uri": "https://localhost:8080/",
     "height": 568
    },
    "id": "1844b4bf",
    "outputId": "65430ad3-1a39-40b5-92fa-5dd61a28b771"
   },
   "outputs": [
    {
     "data": {
      "text/plain": [
       "<AxesSubplot:xlabel='Date'>"
      ]
     },
     "execution_count": 27,
     "metadata": {},
     "output_type": "execute_result"
    },
    {
     "data": {
      "image/png": "[encoded data removed]",
      "text/plain": [
       "<Figure size 1152x648 with 1 Axes>"
      ]
     },
     "metadata": {
      "needs_background": "light"
     },
     "output_type": "display_data"
    }
   ],
   "source": [
    "dfBoth.plot(figsize=(16, 9),color = ['#1f77b4','pink'])"
   ]
  },
  {
   "cell_type": "markdown",
   "id": "5c3c88f6",
   "metadata": {
    "id": "5c3c88f6"
   },
   "source": [
    "\n",
    "#### It is hard to tell which is better because they don't share the same risk. Simply looking at the plots we can say that SPY performs better than META as the line plot for SPY is higher at all times compared to META'S Line Plot. META had almost triple of its initial price in its peak, it fluctuated more than SPY."
   ]
  },
  {
   "cell_type": "markdown",
   "id": "6H-nEfIkgYHs",
   "metadata": {
    "id": "6H-nEfIkgYHs"
   },
   "source": [
    "### Part 2: Creating Normalized and Equal-Risk Portfolios\n",
    "\n",
    "Part 2 includes steps from question 11 to 20. The following steps will be operated:\n",
    "\n",
    "- Create and analyze normalized portfolios of 2 securities with an initial investment of $1,000.\n",
    "- Use .diff() to analyze the one-day differences of the normalized portfolio.\n",
    "- Use .mean() and .std() to get the average and standard deviation on the dataset.\n",
    "- Create a list with 2 factors to get 2 return streams with the same risk.\n",
    "- Create new 'equal risk' portfolios by multiplying the original normalized portfolio with the list.\n",
    "- Analyze the .diff() version of the new portfolios.\n",
    "- Calculate the 'return per unit of risk' numbers for both securities in both the original portfolio as well as the risk-equal portfolio."
   ]
  },
  {
   "cell_type": "markdown",
   "id": "2788878c",
   "metadata": {
    "id": "2788878c"
   },
   "source": [
    "### Normalized Portfolio with Initial investment of $1000"
   ]
  },
  {
   "cell_type": "code",
   "execution_count": 28,
   "id": "7ea38878",
   "metadata": {
    "id": "7ea38878"
   },
   "outputs": [],
   "source": [
    "init = 1000\n",
    "init_stock_meta = init / dfBoth['META'].iloc[0]\n",
    "init_stock_spy = init / dfBoth['SPY'].iloc[0]"
   ]
  },
  {
   "cell_type": "code",
   "execution_count": 29,
   "id": "9980493f",
   "metadata": {
    "id": "9980493f"
   },
   "outputs": [],
   "source": [
    "df_norm_both = pd.merge(dfBoth['META']*init_stock_meta, dfBoth['SPY']*init_stock_spy,\\\n",
    "                        left_index=True, right_index=True)"
   ]
  },
  {
   "cell_type": "code",
   "execution_count": 30,
   "id": "dfb50c20-7493-4c73-88df-b71d3bbf42e3",
   "metadata": {},
   "outputs": [
    {
     "data": {
      "text/html": [
       "<div>\n",
       "<style scoped>\n",
       "    .dataframe tbody tr th:only-of-type {\n",
       "        vertical-align: middle;\n",
       "    }\n",
       "\n",
       "    .dataframe tbody tr th {\n",
       "        vertical-align: top;\n",
       "    }\n",
       "\n",
       "    .dataframe thead th {\n",
       "        text-align: right;\n",
       "    }\n",
       "</style>\n",
       "<table border=\"1\" class=\"dataframe\">\n",
       "  <thead>\n",
       "    <tr style=\"text-align: right;\">\n",
       "      <th></th>\n",
       "      <th>META</th>\n",
       "      <th>SPY</th>\n",
       "    </tr>\n",
       "    <tr>\n",
       "      <th>Date</th>\n",
       "      <th></th>\n",
       "      <th></th>\n",
       "    </tr>\n",
       "  </thead>\n",
       "  <tbody>\n",
       "    <tr>\n",
       "      <th>2014-12-31</th>\n",
       "      <td>1000.000000</td>\n",
       "      <td>1000.000000</td>\n",
       "    </tr>\n",
       "    <tr>\n",
       "      <th>2015-01-02</th>\n",
       "      <td>1005.511411</td>\n",
       "      <td>999.464752</td>\n",
       "    </tr>\n",
       "    <tr>\n",
       "      <th>2015-01-05</th>\n",
       "      <td>989.361776</td>\n",
       "      <td>981.414925</td>\n",
       "    </tr>\n",
       "    <tr>\n",
       "      <th>2015-01-06</th>\n",
       "      <td>976.031848</td>\n",
       "      <td>972.170806</td>\n",
       "    </tr>\n",
       "    <tr>\n",
       "      <th>2015-01-07</th>\n",
       "      <td>976.031848</td>\n",
       "      <td>984.285347</td>\n",
       "    </tr>\n",
       "  </tbody>\n",
       "</table>\n",
       "</div>"
      ],
      "text/plain": [
       "                   META          SPY\n",
       "Date                                \n",
       "2014-12-31  1000.000000  1000.000000\n",
       "2015-01-02  1005.511411   999.464752\n",
       "2015-01-05   989.361776   981.414925\n",
       "2015-01-06   976.031848   972.170806\n",
       "2015-01-07   976.031848   984.285347"
      ]
     },
     "execution_count": 30,
     "metadata": {},
     "output_type": "execute_result"
    }
   ],
   "source": [
    "df_norm_both.head()"
   ]
  },
  {
   "cell_type": "code",
   "execution_count": 31,
   "id": "01854f2d-f905-453f-aa25-0d959e3e5413",
   "metadata": {},
   "outputs": [
    {
     "data": {
      "text/html": [
       "<div>\n",
       "<style scoped>\n",
       "    .dataframe tbody tr th:only-of-type {\n",
       "        vertical-align: middle;\n",
       "    }\n",
       "\n",
       "    .dataframe tbody tr th {\n",
       "        vertical-align: top;\n",
       "    }\n",
       "\n",
       "    .dataframe thead th {\n",
       "        text-align: right;\n",
       "    }\n",
       "</style>\n",
       "<table border=\"1\" class=\"dataframe\">\n",
       "  <thead>\n",
       "    <tr style=\"text-align: right;\">\n",
       "      <th></th>\n",
       "      <th>META</th>\n",
       "      <th>SPY</th>\n",
       "    </tr>\n",
       "    <tr>\n",
       "      <th>Date</th>\n",
       "      <th></th>\n",
       "      <th></th>\n",
       "    </tr>\n",
       "  </thead>\n",
       "  <tbody>\n",
       "    <tr>\n",
       "      <th>2019-12-24</th>\n",
       "      <td>2629.069520</td>\n",
       "      <td>1724.641182</td>\n",
       "    </tr>\n",
       "    <tr>\n",
       "      <th>2019-12-26</th>\n",
       "      <td>2663.291492</td>\n",
       "      <td>1733.822085</td>\n",
       "    </tr>\n",
       "    <tr>\n",
       "      <th>2019-12-27</th>\n",
       "      <td>2667.264997</td>\n",
       "      <td>1733.392142</td>\n",
       "    </tr>\n",
       "    <tr>\n",
       "      <th>2019-12-30</th>\n",
       "      <td>2619.969398</td>\n",
       "      <td>1723.835531</td>\n",
       "    </tr>\n",
       "    <tr>\n",
       "      <th>2019-12-31</th>\n",
       "      <td>2630.735822</td>\n",
       "      <td>1728.023071</td>\n",
       "    </tr>\n",
       "  </tbody>\n",
       "</table>\n",
       "</div>"
      ],
      "text/plain": [
       "                   META          SPY\n",
       "Date                                \n",
       "2019-12-24  2629.069520  1724.641182\n",
       "2019-12-26  2663.291492  1733.822085\n",
       "2019-12-27  2667.264997  1733.392142\n",
       "2019-12-30  2619.969398  1723.835531\n",
       "2019-12-31  2630.735822  1728.023071"
      ]
     },
     "execution_count": 31,
     "metadata": {},
     "output_type": "execute_result"
    }
   ],
   "source": [
    "df_norm_both.tail()"
   ]
  },
  {
   "cell_type": "code",
   "execution_count": 32,
   "id": "ff76ebe4",
   "metadata": {
    "colab": {
     "base_uri": "https://localhost:8080/"
    },
    "id": "ff76ebe4",
    "outputId": "c2f2fe86-aebf-4dca-b4bb-12b1a7f14864"
   },
   "outputs": [
    {
     "name": "stdout",
     "output_type": "stream",
     "text": [
      "<class 'pandas.core.frame.DataFrame'>\n",
      "DatetimeIndex: 1259 entries, 2014-12-31 to 2019-12-31\n",
      "Data columns (total 2 columns):\n",
      " #   Column  Non-Null Count  Dtype  \n",
      "---  ------  --------------  -----  \n",
      " 0   META    1259 non-null   float64\n",
      " 1   SPY     1259 non-null   float64\n",
      "dtypes: float64(2)\n",
      "memory usage: 61.8 KB\n"
     ]
    }
   ],
   "source": [
    "df_norm_both.info()"
   ]
  },
  {
   "cell_type": "code",
   "execution_count": 33,
   "id": "683f03cf-24ad-4e11-911f-626c0e299a3c",
   "metadata": {},
   "outputs": [
    {
     "data": {
      "text/plain": [
       "META    0\n",
       "SPY     0\n",
       "dtype: int64"
      ]
     },
     "execution_count": 33,
     "metadata": {},
     "output_type": "execute_result"
    }
   ],
   "source": [
    "df_norm_both.isnull().sum()"
   ]
  },
  {
   "cell_type": "code",
   "execution_count": 34,
   "id": "1dbe648b",
   "metadata": {
    "colab": {
     "base_uri": "https://localhost:8080/",
     "height": 300
    },
    "id": "1dbe648b",
    "outputId": "0009cfc3-5ea3-4f4e-fda4-b7df1dbe4f04"
   },
   "outputs": [
    {
     "data": {
      "text/html": [
       "<div>\n",
       "<style scoped>\n",
       "    .dataframe tbody tr th:only-of-type {\n",
       "        vertical-align: middle;\n",
       "    }\n",
       "\n",
       "    .dataframe tbody tr th {\n",
       "        vertical-align: top;\n",
       "    }\n",
       "\n",
       "    .dataframe thead th {\n",
       "        text-align: right;\n",
       "    }\n",
       "</style>\n",
       "<table border=\"1\" class=\"dataframe\">\n",
       "  <thead>\n",
       "    <tr style=\"text-align: right;\">\n",
       "      <th></th>\n",
       "      <th>META</th>\n",
       "      <th>SPY</th>\n",
       "    </tr>\n",
       "  </thead>\n",
       "  <tbody>\n",
       "    <tr>\n",
       "      <th>count</th>\n",
       "      <td>1259.000000</td>\n",
       "      <td>1259.000000</td>\n",
       "    </tr>\n",
       "    <tr>\n",
       "      <th>mean</th>\n",
       "      <td>1833.141780</td>\n",
       "      <td>1256.729807</td>\n",
       "    </tr>\n",
       "    <tr>\n",
       "      <th>std</th>\n",
       "      <td>488.538081</td>\n",
       "      <td>216.726507</td>\n",
       "    </tr>\n",
       "    <tr>\n",
       "      <th>min</th>\n",
       "      <td>949.115691</td>\n",
       "      <td>908.015266</td>\n",
       "    </tr>\n",
       "    <tr>\n",
       "      <th>25%</th>\n",
       "      <td>1437.195666</td>\n",
       "      <td>1035.253926</td>\n",
       "    </tr>\n",
       "    <tr>\n",
       "      <th>50%</th>\n",
       "      <td>1864.522013</td>\n",
       "      <td>1243.446789</td>\n",
       "    </tr>\n",
       "    <tr>\n",
       "      <th>75%</th>\n",
       "      <td>2275.634527</td>\n",
       "      <td>1444.119540</td>\n",
       "    </tr>\n",
       "    <tr>\n",
       "      <th>max</th>\n",
       "      <td>2787.746852</td>\n",
       "      <td>1733.822085</td>\n",
       "    </tr>\n",
       "  </tbody>\n",
       "</table>\n",
       "</div>"
      ],
      "text/plain": [
       "              META          SPY\n",
       "count  1259.000000  1259.000000\n",
       "mean   1833.141780  1256.729807\n",
       "std     488.538081   216.726507\n",
       "min     949.115691   908.015266\n",
       "25%    1437.195666  1035.253926\n",
       "50%    1864.522013  1243.446789\n",
       "75%    2275.634527  1444.119540\n",
       "max    2787.746852  1733.822085"
      ]
     },
     "execution_count": 34,
     "metadata": {},
     "output_type": "execute_result"
    }
   ],
   "source": [
    "df_norm_both.describe()"
   ]
  },
  {
   "cell_type": "code",
   "execution_count": 35,
   "id": "fed1b46c",
   "metadata": {
    "colab": {
     "base_uri": "https://localhost:8080/",
     "height": 568
    },
    "id": "fed1b46c",
    "outputId": "82ed5265-27a8-4458-ecad-a48ea5008a9d"
   },
   "outputs": [
    {
     "data": {
      "text/plain": [
       "<AxesSubplot:xlabel='Date'>"
      ]
     },
     "execution_count": 35,
     "metadata": {},
     "output_type": "execute_result"
    },
    {
     "data": {
      "image/png": "[encoded data removed]",
      "text/plain": [
       "<Figure size 1152x648 with 1 Axes>"
      ]
     },
     "metadata": {
      "needs_background": "light"
     },
     "output_type": "display_data"
    }
   ],
   "source": [
    "df_norm_both.plot(figsize=(16, 9),color = ['#1f77b4','pink'])"
   ]
  },
  {
   "cell_type": "markdown",
   "id": "a861932c",
   "metadata": {
    "id": "a861932c"
   },
   "source": [
    "#### 12. What do the numbers in this new data frame represent? Which security performs better? Is that the end of the story?\n",
    "The numbers mean the return we can have if we invest $1,000 into each stocks. Though you will have better return when investing META, you also bear greater risk than investing SPY. That is, we cannot say META outperform SPY. We will need to calcaulate the risk to justify this answer."
   ]
  },
  {
   "cell_type": "markdown",
   "id": "52e1a629-fa6b-447b-9c54-f972e18e929d",
   "metadata": {},
   "source": [
    "### One Day Difference Calculation"
   ]
  },
  {
   "cell_type": "markdown",
   "id": "b6c09f3e",
   "metadata": {
    "id": "b6c09f3e",
    "tags": []
   },
   "source": [
    "#### 13. Analyze the one-day differences of the normalized portfolio, using .diff(). What do these numbers represent? Are there any NULL rows in this data set? If so, why? \n",
    "The numbers represent the daily profit and loss, having the close price subtracted with previous close price. There is a NULL in the first row because there is no previous price for the first row to deduct.\n"
   ]
  },
  {
   "cell_type": "code",
   "execution_count": 36,
   "id": "83dde133",
   "metadata": {
    "colab": {
     "base_uri": "https://localhost:8080/",
     "height": 455
    },
    "id": "83dde133",
    "outputId": "d5272c7f-230b-4430-9a2b-fad4e4baaf43"
   },
   "outputs": [
    {
     "data": {
      "text/html": [
       "<div>\n",
       "<style scoped>\n",
       "    .dataframe tbody tr th:only-of-type {\n",
       "        vertical-align: middle;\n",
       "    }\n",
       "\n",
       "    .dataframe tbody tr th {\n",
       "        vertical-align: top;\n",
       "    }\n",
       "\n",
       "    .dataframe thead th {\n",
       "        text-align: right;\n",
       "    }\n",
       "</style>\n",
       "<table border=\"1\" class=\"dataframe\">\n",
       "  <thead>\n",
       "    <tr style=\"text-align: right;\">\n",
       "      <th></th>\n",
       "      <th>META</th>\n",
       "      <th>SPY</th>\n",
       "    </tr>\n",
       "    <tr>\n",
       "      <th>Date</th>\n",
       "      <th></th>\n",
       "      <th></th>\n",
       "    </tr>\n",
       "  </thead>\n",
       "  <tbody>\n",
       "    <tr>\n",
       "      <th>2014-12-31</th>\n",
       "      <td>NaN</td>\n",
       "      <td>NaN</td>\n",
       "    </tr>\n",
       "    <tr>\n",
       "      <th>2015-01-02</th>\n",
       "      <td>5.511411</td>\n",
       "      <td>-0.535248</td>\n",
       "    </tr>\n",
       "    <tr>\n",
       "      <th>2015-01-05</th>\n",
       "      <td>-16.149635</td>\n",
       "      <td>-18.049827</td>\n",
       "    </tr>\n",
       "    <tr>\n",
       "      <th>2015-01-06</th>\n",
       "      <td>-13.329928</td>\n",
       "      <td>-9.244120</td>\n",
       "    </tr>\n",
       "    <tr>\n",
       "      <th>2015-01-07</th>\n",
       "      <td>0.000000</td>\n",
       "      <td>12.114542</td>\n",
       "    </tr>\n",
       "    <tr>\n",
       "      <th>...</th>\n",
       "      <td>...</td>\n",
       "      <td>...</td>\n",
       "    </tr>\n",
       "    <tr>\n",
       "      <th>2019-12-24</th>\n",
       "      <td>-13.586229</td>\n",
       "      <td>0.053722</td>\n",
       "    </tr>\n",
       "    <tr>\n",
       "      <th>2019-12-26</th>\n",
       "      <td>34.221972</td>\n",
       "      <td>9.180903</td>\n",
       "    </tr>\n",
       "    <tr>\n",
       "      <th>2019-12-27</th>\n",
       "      <td>3.973505</td>\n",
       "      <td>-0.429943</td>\n",
       "    </tr>\n",
       "    <tr>\n",
       "      <th>2019-12-30</th>\n",
       "      <td>-47.295599</td>\n",
       "      <td>-9.556611</td>\n",
       "    </tr>\n",
       "    <tr>\n",
       "      <th>2019-12-31</th>\n",
       "      <td>10.766424</td>\n",
       "      <td>4.187540</td>\n",
       "    </tr>\n",
       "  </tbody>\n",
       "</table>\n",
       "<p>1259 rows × 2 columns</p>\n",
       "</div>"
      ],
      "text/plain": [
       "                 META        SPY\n",
       "Date                            \n",
       "2014-12-31        NaN        NaN\n",
       "2015-01-02   5.511411  -0.535248\n",
       "2015-01-05 -16.149635 -18.049827\n",
       "2015-01-06 -13.329928  -9.244120\n",
       "2015-01-07   0.000000  12.114542\n",
       "...               ...        ...\n",
       "2019-12-24 -13.586229   0.053722\n",
       "2019-12-26  34.221972   9.180903\n",
       "2019-12-27   3.973505  -0.429943\n",
       "2019-12-30 -47.295599  -9.556611\n",
       "2019-12-31  10.766424   4.187540\n",
       "\n",
       "[1259 rows x 2 columns]"
      ]
     },
     "execution_count": 36,
     "metadata": {},
     "output_type": "execute_result"
    }
   ],
   "source": [
    "df_norm_diff = df_norm_both.diff()\n",
    "df_norm_diff"
   ]
  },
  {
   "cell_type": "code",
   "execution_count": 37,
   "id": "184dfa69",
   "metadata": {},
   "outputs": [
    {
     "data": {
      "text/html": [
       "<div>\n",
       "<style scoped>\n",
       "    .dataframe tbody tr th:only-of-type {\n",
       "        vertical-align: middle;\n",
       "    }\n",
       "\n",
       "    .dataframe tbody tr th {\n",
       "        vertical-align: top;\n",
       "    }\n",
       "\n",
       "    .dataframe thead th {\n",
       "        text-align: right;\n",
       "    }\n",
       "</style>\n",
       "<table border=\"1\" class=\"dataframe\">\n",
       "  <thead>\n",
       "    <tr style=\"text-align: right;\">\n",
       "      <th></th>\n",
       "      <th>META</th>\n",
       "      <th>SPY</th>\n",
       "    </tr>\n",
       "    <tr>\n",
       "      <th>Date</th>\n",
       "      <th></th>\n",
       "      <th></th>\n",
       "    </tr>\n",
       "  </thead>\n",
       "  <tbody>\n",
       "    <tr>\n",
       "      <th>2014-12-31</th>\n",
       "      <td>NaN</td>\n",
       "      <td>NaN</td>\n",
       "    </tr>\n",
       "    <tr>\n",
       "      <th>2015-01-02</th>\n",
       "      <td>5.511411</td>\n",
       "      <td>-0.535248</td>\n",
       "    </tr>\n",
       "    <tr>\n",
       "      <th>2015-01-05</th>\n",
       "      <td>-16.149635</td>\n",
       "      <td>-18.049827</td>\n",
       "    </tr>\n",
       "    <tr>\n",
       "      <th>2015-01-06</th>\n",
       "      <td>-13.329928</td>\n",
       "      <td>-9.244120</td>\n",
       "    </tr>\n",
       "    <tr>\n",
       "      <th>2015-01-07</th>\n",
       "      <td>0.000000</td>\n",
       "      <td>12.114542</td>\n",
       "    </tr>\n",
       "  </tbody>\n",
       "</table>\n",
       "</div>"
      ],
      "text/plain": [
       "                 META        SPY\n",
       "Date                            \n",
       "2014-12-31        NaN        NaN\n",
       "2015-01-02   5.511411  -0.535248\n",
       "2015-01-05 -16.149635 -18.049827\n",
       "2015-01-06 -13.329928  -9.244120\n",
       "2015-01-07   0.000000  12.114542"
      ]
     },
     "execution_count": 37,
     "metadata": {},
     "output_type": "execute_result"
    }
   ],
   "source": [
    "df_norm_diff.head()"
   ]
  },
  {
   "cell_type": "code",
   "execution_count": 38,
   "id": "e07a6045",
   "metadata": {},
   "outputs": [
    {
     "data": {
      "text/html": [
       "<div>\n",
       "<style scoped>\n",
       "    .dataframe tbody tr th:only-of-type {\n",
       "        vertical-align: middle;\n",
       "    }\n",
       "\n",
       "    .dataframe tbody tr th {\n",
       "        vertical-align: top;\n",
       "    }\n",
       "\n",
       "    .dataframe thead th {\n",
       "        text-align: right;\n",
       "    }\n",
       "</style>\n",
       "<table border=\"1\" class=\"dataframe\">\n",
       "  <thead>\n",
       "    <tr style=\"text-align: right;\">\n",
       "      <th></th>\n",
       "      <th>META</th>\n",
       "      <th>SPY</th>\n",
       "    </tr>\n",
       "    <tr>\n",
       "      <th>Date</th>\n",
       "      <th></th>\n",
       "      <th></th>\n",
       "    </tr>\n",
       "  </thead>\n",
       "  <tbody>\n",
       "    <tr>\n",
       "      <th>2019-12-24</th>\n",
       "      <td>-13.586229</td>\n",
       "      <td>0.053722</td>\n",
       "    </tr>\n",
       "    <tr>\n",
       "      <th>2019-12-26</th>\n",
       "      <td>34.221972</td>\n",
       "      <td>9.180903</td>\n",
       "    </tr>\n",
       "    <tr>\n",
       "      <th>2019-12-27</th>\n",
       "      <td>3.973505</td>\n",
       "      <td>-0.429943</td>\n",
       "    </tr>\n",
       "    <tr>\n",
       "      <th>2019-12-30</th>\n",
       "      <td>-47.295599</td>\n",
       "      <td>-9.556611</td>\n",
       "    </tr>\n",
       "    <tr>\n",
       "      <th>2019-12-31</th>\n",
       "      <td>10.766424</td>\n",
       "      <td>4.187540</td>\n",
       "    </tr>\n",
       "  </tbody>\n",
       "</table>\n",
       "</div>"
      ],
      "text/plain": [
       "                 META       SPY\n",
       "Date                           \n",
       "2019-12-24 -13.586229  0.053722\n",
       "2019-12-26  34.221972  9.180903\n",
       "2019-12-27   3.973505 -0.429943\n",
       "2019-12-30 -47.295599 -9.556611\n",
       "2019-12-31  10.766424  4.187540"
      ]
     },
     "execution_count": 38,
     "metadata": {},
     "output_type": "execute_result"
    }
   ],
   "source": [
    "df_norm_diff.tail()"
   ]
  },
  {
   "cell_type": "code",
   "execution_count": 39,
   "id": "1a156626",
   "metadata": {},
   "outputs": [
    {
     "data": {
      "text/plain": [
       "META    1\n",
       "SPY     1\n",
       "dtype: int64"
      ]
     },
     "execution_count": 39,
     "metadata": {},
     "output_type": "execute_result"
    }
   ],
   "source": [
    "df_norm_diff.isnull().sum()"
   ]
  },
  {
   "cell_type": "code",
   "execution_count": 40,
   "id": "36b481d4",
   "metadata": {
    "colab": {
     "base_uri": "https://localhost:8080/",
     "height": 300
    },
    "id": "36b481d4",
    "outputId": "8a5a88b1-a84f-49a2-9715-9056b9c80e98"
   },
   "outputs": [
    {
     "data": {
      "text/html": [
       "<div>\n",
       "<style scoped>\n",
       "    .dataframe tbody tr th:only-of-type {\n",
       "        vertical-align: middle;\n",
       "    }\n",
       "\n",
       "    .dataframe tbody tr th {\n",
       "        vertical-align: top;\n",
       "    }\n",
       "\n",
       "    .dataframe thead th {\n",
       "        text-align: right;\n",
       "    }\n",
       "</style>\n",
       "<table border=\"1\" class=\"dataframe\">\n",
       "  <thead>\n",
       "    <tr style=\"text-align: right;\">\n",
       "      <th></th>\n",
       "      <th>META</th>\n",
       "      <th>SPY</th>\n",
       "    </tr>\n",
       "  </thead>\n",
       "  <tbody>\n",
       "    <tr>\n",
       "      <th>count</th>\n",
       "      <td>1258.000000</td>\n",
       "      <td>1258.000000</td>\n",
       "    </tr>\n",
       "    <tr>\n",
       "      <th>mean</th>\n",
       "      <td>1.296292</td>\n",
       "      <td>0.578715</td>\n",
       "    </tr>\n",
       "    <tr>\n",
       "      <th>std</th>\n",
       "      <td>34.548129</td>\n",
       "      <td>10.529762</td>\n",
       "    </tr>\n",
       "    <tr>\n",
       "      <th>min</th>\n",
       "      <td>-528.582508</td>\n",
       "      <td>-59.568767</td>\n",
       "    </tr>\n",
       "    <tr>\n",
       "      <th>25%</th>\n",
       "      <td>-12.528802</td>\n",
       "      <td>-3.453467</td>\n",
       "    </tr>\n",
       "    <tr>\n",
       "      <th>50%</th>\n",
       "      <td>1.345852</td>\n",
       "      <td>0.614418</td>\n",
       "    </tr>\n",
       "    <tr>\n",
       "      <th>75%</th>\n",
       "      <td>17.431436</td>\n",
       "      <td>5.806456</td>\n",
       "    </tr>\n",
       "    <tr>\n",
       "      <th>max</th>\n",
       "      <td>208.536336</td>\n",
       "      <td>62.386066</td>\n",
       "    </tr>\n",
       "  </tbody>\n",
       "</table>\n",
       "</div>"
      ],
      "text/plain": [
       "              META          SPY\n",
       "count  1258.000000  1258.000000\n",
       "mean      1.296292     0.578715\n",
       "std      34.548129    10.529762\n",
       "min    -528.582508   -59.568767\n",
       "25%     -12.528802    -3.453467\n",
       "50%       1.345852     0.614418\n",
       "75%      17.431436     5.806456\n",
       "max     208.536336    62.386066"
      ]
     },
     "execution_count": 40,
     "metadata": {},
     "output_type": "execute_result"
    }
   ],
   "source": [
    "df_norm_diff.describe()"
   ]
  },
  {
   "cell_type": "code",
   "execution_count": 41,
   "id": "1fbd14bc",
   "metadata": {},
   "outputs": [
    {
     "data": {
      "text/plain": [
       "<AxesSubplot:xlabel='Date'>"
      ]
     },
     "execution_count": 41,
     "metadata": {},
     "output_type": "execute_result"
    },
    {
     "data": {
      "image/png": "[encoded data removed]",
      "text/plain": [
       "<Figure size 720x864 with 1 Axes>"
      ]
     },
     "metadata": {
      "needs_background": "light"
     },
     "output_type": "display_data"
    }
   ],
   "source": [
    "df_norm_diff.plot(figsize=(10,12),color = ['#1f77b4','pink'])"
   ]
  },
  {
   "cell_type": "markdown",
   "id": "7e78b245-6021-4536-8df6-e90c5bd7dcf5",
   "metadata": {},
   "source": [
    "### Mean and Standard Deviation Calculation"
   ]
  },
  {
   "cell_type": "code",
   "execution_count": 42,
   "id": "a448b13a",
   "metadata": {
    "colab": {
     "base_uri": "https://localhost:8080/"
    },
    "id": "a448b13a",
    "outputId": "28c2cc4a-d356-4c0e-be2d-89156bddeabc"
   },
   "outputs": [
    {
     "data": {
      "text/plain": [
       "META    1.296292\n",
       "SPY     0.578715\n",
       "dtype: float64"
      ]
     },
     "execution_count": 42,
     "metadata": {},
     "output_type": "execute_result"
    }
   ],
   "source": [
    "df_norm_diff.mean()"
   ]
  },
  {
   "cell_type": "code",
   "execution_count": 43,
   "id": "ceb2592d",
   "metadata": {
    "colab": {
     "base_uri": "https://localhost:8080/"
    },
    "id": "ceb2592d",
    "outputId": "28ebd21e-c748-4be8-cf79-573c8a41f47c"
   },
   "outputs": [
    {
     "data": {
      "text/plain": [
       "META    34.548129\n",
       "SPY     10.529762\n",
       "dtype: float64"
      ]
     },
     "execution_count": 43,
     "metadata": {},
     "output_type": "execute_result"
    }
   ],
   "source": [
    "df_norm_diff.std()"
   ]
  },
  {
   "cell_type": "markdown",
   "id": "40031bad",
   "metadata": {
    "id": "40031bad"
   },
   "source": [
    "#### 15. Are the standard deviations the same? If not, calculate the factor that should be applied  \n",
    "The standard deviations are not the same and we need to calculate the risk factor that should be applied to the lower risk security in order to equalize risk of both the securities."
   ]
  },
  {
   "cell_type": "markdown",
   "id": "48888c69-4fdc-4fca-bc7e-8ee98ad1fd19",
   "metadata": {},
   "source": [
    "### Risk Factor Calculation"
   ]
  },
  {
   "cell_type": "code",
   "execution_count": 44,
   "id": "9df5d42a",
   "metadata": {
    "colab": {
     "base_uri": "https://localhost:8080/"
    },
    "id": "9df5d42a",
    "outputId": "8374b7a7-db3b-4312-9b4a-8fb168a5b2a8"
   },
   "outputs": [
    {
     "data": {
      "text/plain": [
       "3.280998014577537"
      ]
     },
     "execution_count": 44,
     "metadata": {},
     "output_type": "execute_result"
    }
   ],
   "source": [
    "equal_risk_factor = df_norm_diff['META'].std()/df_norm_diff['SPY'].std()\n",
    "equal_risk_factor"
   ]
  },
  {
   "cell_type": "markdown",
   "id": "ba28410b-f03c-41a0-90a1-b4fe1cd7f8b5",
   "metadata": {},
   "source": [
    "#### A factor of 3.2810 must be applied to lower risk security in order to equalise risk in both securuties"
   ]
  },
  {
   "cell_type": "code",
   "execution_count": 45,
   "id": "ede8020a-bd74-4a86-bcb9-413af5a284c1",
   "metadata": {},
   "outputs": [],
   "source": [
    "portfolio_init_values = [1.0, equal_risk_factor]"
   ]
  },
  {
   "cell_type": "markdown",
   "id": "3e1398fb-6cd5-4713-8bee-5d4f63c71a0e",
   "metadata": {},
   "source": [
    "### Create Equal Risk Portfolio"
   ]
  },
  {
   "cell_type": "code",
   "execution_count": 46,
   "id": "c19c68f4-4b33-486e-b152-724b4df756ed",
   "metadata": {},
   "outputs": [
    {
     "data": {
      "text/html": [
       "<div>\n",
       "<style scoped>\n",
       "    .dataframe tbody tr th:only-of-type {\n",
       "        vertical-align: middle;\n",
       "    }\n",
       "\n",
       "    .dataframe tbody tr th {\n",
       "        vertical-align: top;\n",
       "    }\n",
       "\n",
       "    .dataframe thead th {\n",
       "        text-align: right;\n",
       "    }\n",
       "</style>\n",
       "<table border=\"1\" class=\"dataframe\">\n",
       "  <thead>\n",
       "    <tr style=\"text-align: right;\">\n",
       "      <th></th>\n",
       "      <th>META</th>\n",
       "      <th>SPY</th>\n",
       "    </tr>\n",
       "    <tr>\n",
       "      <th>Date</th>\n",
       "      <th></th>\n",
       "      <th></th>\n",
       "    </tr>\n",
       "  </thead>\n",
       "  <tbody>\n",
       "    <tr>\n",
       "      <th>2014-12-31</th>\n",
       "      <td>1000.000000</td>\n",
       "      <td>3280.998015</td>\n",
       "    </tr>\n",
       "    <tr>\n",
       "      <th>2015-01-02</th>\n",
       "      <td>1005.511411</td>\n",
       "      <td>3279.241868</td>\n",
       "    </tr>\n",
       "    <tr>\n",
       "      <th>2015-01-05</th>\n",
       "      <td>989.361776</td>\n",
       "      <td>3220.020421</td>\n",
       "    </tr>\n",
       "    <tr>\n",
       "      <th>2015-01-06</th>\n",
       "      <td>976.031848</td>\n",
       "      <td>3189.690483</td>\n",
       "    </tr>\n",
       "    <tr>\n",
       "      <th>2015-01-07</th>\n",
       "      <td>976.031848</td>\n",
       "      <td>3229.438271</td>\n",
       "    </tr>\n",
       "    <tr>\n",
       "      <th>...</th>\n",
       "      <td>...</td>\n",
       "      <td>...</td>\n",
       "    </tr>\n",
       "    <tr>\n",
       "      <th>2019-12-24</th>\n",
       "      <td>2629.069520</td>\n",
       "      <td>5658.544295</td>\n",
       "    </tr>\n",
       "    <tr>\n",
       "      <th>2019-12-26</th>\n",
       "      <td>2663.291492</td>\n",
       "      <td>5688.666818</td>\n",
       "    </tr>\n",
       "    <tr>\n",
       "      <th>2019-12-27</th>\n",
       "      <td>2667.264997</td>\n",
       "      <td>5687.256176</td>\n",
       "    </tr>\n",
       "    <tr>\n",
       "      <th>2019-12-30</th>\n",
       "      <td>2619.969398</td>\n",
       "      <td>5655.900954</td>\n",
       "    </tr>\n",
       "    <tr>\n",
       "      <th>2019-12-31</th>\n",
       "      <td>2630.735822</td>\n",
       "      <td>5669.640265</td>\n",
       "    </tr>\n",
       "  </tbody>\n",
       "</table>\n",
       "<p>1259 rows × 2 columns</p>\n",
       "</div>"
      ],
      "text/plain": [
       "                   META          SPY\n",
       "Date                                \n",
       "2014-12-31  1000.000000  3280.998015\n",
       "2015-01-02  1005.511411  3279.241868\n",
       "2015-01-05   989.361776  3220.020421\n",
       "2015-01-06   976.031848  3189.690483\n",
       "2015-01-07   976.031848  3229.438271\n",
       "...                 ...          ...\n",
       "2019-12-24  2629.069520  5658.544295\n",
       "2019-12-26  2663.291492  5688.666818\n",
       "2019-12-27  2667.264997  5687.256176\n",
       "2019-12-30  2619.969398  5655.900954\n",
       "2019-12-31  2630.735822  5669.640265\n",
       "\n",
       "[1259 rows x 2 columns]"
      ]
     },
     "execution_count": 46,
     "metadata": {},
     "output_type": "execute_result"
    }
   ],
   "source": [
    "df_equalRisk_both = df_norm_both * portfolio_init_values\n",
    "df_equalRisk_both "
   ]
  },
  {
   "cell_type": "code",
   "execution_count": 47,
   "id": "ecbca101-67a9-4bce-8144-a639c6105b57",
   "metadata": {},
   "outputs": [
    {
     "data": {
      "text/html": [
       "<div>\n",
       "<style scoped>\n",
       "    .dataframe tbody tr th:only-of-type {\n",
       "        vertical-align: middle;\n",
       "    }\n",
       "\n",
       "    .dataframe tbody tr th {\n",
       "        vertical-align: top;\n",
       "    }\n",
       "\n",
       "    .dataframe thead th {\n",
       "        text-align: right;\n",
       "    }\n",
       "</style>\n",
       "<table border=\"1\" class=\"dataframe\">\n",
       "  <thead>\n",
       "    <tr style=\"text-align: right;\">\n",
       "      <th></th>\n",
       "      <th>META</th>\n",
       "      <th>SPY</th>\n",
       "    </tr>\n",
       "    <tr>\n",
       "      <th>Date</th>\n",
       "      <th></th>\n",
       "      <th></th>\n",
       "    </tr>\n",
       "  </thead>\n",
       "  <tbody>\n",
       "    <tr>\n",
       "      <th>2014-12-31</th>\n",
       "      <td>1000.000000</td>\n",
       "      <td>3280.998015</td>\n",
       "    </tr>\n",
       "    <tr>\n",
       "      <th>2015-01-02</th>\n",
       "      <td>1005.511411</td>\n",
       "      <td>3279.241868</td>\n",
       "    </tr>\n",
       "    <tr>\n",
       "      <th>2015-01-05</th>\n",
       "      <td>989.361776</td>\n",
       "      <td>3220.020421</td>\n",
       "    </tr>\n",
       "    <tr>\n",
       "      <th>2015-01-06</th>\n",
       "      <td>976.031848</td>\n",
       "      <td>3189.690483</td>\n",
       "    </tr>\n",
       "    <tr>\n",
       "      <th>2015-01-07</th>\n",
       "      <td>976.031848</td>\n",
       "      <td>3229.438271</td>\n",
       "    </tr>\n",
       "  </tbody>\n",
       "</table>\n",
       "</div>"
      ],
      "text/plain": [
       "                   META          SPY\n",
       "Date                                \n",
       "2014-12-31  1000.000000  3280.998015\n",
       "2015-01-02  1005.511411  3279.241868\n",
       "2015-01-05   989.361776  3220.020421\n",
       "2015-01-06   976.031848  3189.690483\n",
       "2015-01-07   976.031848  3229.438271"
      ]
     },
     "execution_count": 47,
     "metadata": {},
     "output_type": "execute_result"
    }
   ],
   "source": [
    "df_equalRisk_both.head()"
   ]
  },
  {
   "cell_type": "code",
   "execution_count": 48,
   "id": "bc3827d1-c990-416d-88dc-0adb15ce57fa",
   "metadata": {},
   "outputs": [
    {
     "data": {
      "text/html": [
       "<div>\n",
       "<style scoped>\n",
       "    .dataframe tbody tr th:only-of-type {\n",
       "        vertical-align: middle;\n",
       "    }\n",
       "\n",
       "    .dataframe tbody tr th {\n",
       "        vertical-align: top;\n",
       "    }\n",
       "\n",
       "    .dataframe thead th {\n",
       "        text-align: right;\n",
       "    }\n",
       "</style>\n",
       "<table border=\"1\" class=\"dataframe\">\n",
       "  <thead>\n",
       "    <tr style=\"text-align: right;\">\n",
       "      <th></th>\n",
       "      <th>META</th>\n",
       "      <th>SPY</th>\n",
       "    </tr>\n",
       "    <tr>\n",
       "      <th>Date</th>\n",
       "      <th></th>\n",
       "      <th></th>\n",
       "    </tr>\n",
       "  </thead>\n",
       "  <tbody>\n",
       "    <tr>\n",
       "      <th>2019-12-24</th>\n",
       "      <td>2629.069520</td>\n",
       "      <td>5658.544295</td>\n",
       "    </tr>\n",
       "    <tr>\n",
       "      <th>2019-12-26</th>\n",
       "      <td>2663.291492</td>\n",
       "      <td>5688.666818</td>\n",
       "    </tr>\n",
       "    <tr>\n",
       "      <th>2019-12-27</th>\n",
       "      <td>2667.264997</td>\n",
       "      <td>5687.256176</td>\n",
       "    </tr>\n",
       "    <tr>\n",
       "      <th>2019-12-30</th>\n",
       "      <td>2619.969398</td>\n",
       "      <td>5655.900954</td>\n",
       "    </tr>\n",
       "    <tr>\n",
       "      <th>2019-12-31</th>\n",
       "      <td>2630.735822</td>\n",
       "      <td>5669.640265</td>\n",
       "    </tr>\n",
       "  </tbody>\n",
       "</table>\n",
       "</div>"
      ],
      "text/plain": [
       "                   META          SPY\n",
       "Date                                \n",
       "2019-12-24  2629.069520  5658.544295\n",
       "2019-12-26  2663.291492  5688.666818\n",
       "2019-12-27  2667.264997  5687.256176\n",
       "2019-12-30  2619.969398  5655.900954\n",
       "2019-12-31  2630.735822  5669.640265"
      ]
     },
     "execution_count": 48,
     "metadata": {},
     "output_type": "execute_result"
    }
   ],
   "source": [
    "df_equalRisk_both.tail()"
   ]
  },
  {
   "cell_type": "code",
   "execution_count": 49,
   "id": "15d0b2ca-b585-42d0-b8c7-1ee15dd851d1",
   "metadata": {},
   "outputs": [
    {
     "name": "stdout",
     "output_type": "stream",
     "text": [
      "<class 'pandas.core.frame.DataFrame'>\n",
      "DatetimeIndex: 1259 entries, 2014-12-31 to 2019-12-31\n",
      "Data columns (total 2 columns):\n",
      " #   Column  Non-Null Count  Dtype  \n",
      "---  ------  --------------  -----  \n",
      " 0   META    1259 non-null   float64\n",
      " 1   SPY     1259 non-null   float64\n",
      "dtypes: float64(2)\n",
      "memory usage: 61.8 KB\n"
     ]
    }
   ],
   "source": [
    "df_equalRisk_both.info()"
   ]
  },
  {
   "cell_type": "code",
   "execution_count": 50,
   "id": "887ca553-4727-445d-b796-b2ce770c8cde",
   "metadata": {},
   "outputs": [
    {
     "data": {
      "text/html": [
       "<div>\n",
       "<style scoped>\n",
       "    .dataframe tbody tr th:only-of-type {\n",
       "        vertical-align: middle;\n",
       "    }\n",
       "\n",
       "    .dataframe tbody tr th {\n",
       "        vertical-align: top;\n",
       "    }\n",
       "\n",
       "    .dataframe thead th {\n",
       "        text-align: right;\n",
       "    }\n",
       "</style>\n",
       "<table border=\"1\" class=\"dataframe\">\n",
       "  <thead>\n",
       "    <tr style=\"text-align: right;\">\n",
       "      <th></th>\n",
       "      <th>META</th>\n",
       "      <th>SPY</th>\n",
       "    </tr>\n",
       "  </thead>\n",
       "  <tbody>\n",
       "    <tr>\n",
       "      <th>count</th>\n",
       "      <td>1259.000000</td>\n",
       "      <td>1259.000000</td>\n",
       "    </tr>\n",
       "    <tr>\n",
       "      <th>mean</th>\n",
       "      <td>1833.141780</td>\n",
       "      <td>4123.328001</td>\n",
       "    </tr>\n",
       "    <tr>\n",
       "      <th>std</th>\n",
       "      <td>488.538081</td>\n",
       "      <td>711.079240</td>\n",
       "    </tr>\n",
       "    <tr>\n",
       "      <th>min</th>\n",
       "      <td>949.115691</td>\n",
       "      <td>2979.196284</td>\n",
       "    </tr>\n",
       "    <tr>\n",
       "      <th>25%</th>\n",
       "      <td>1437.195666</td>\n",
       "      <td>3396.666075</td>\n",
       "    </tr>\n",
       "    <tr>\n",
       "      <th>50%</th>\n",
       "      <td>1864.522013</td>\n",
       "      <td>4079.746446</td>\n",
       "    </tr>\n",
       "    <tr>\n",
       "      <th>75%</th>\n",
       "      <td>2275.634527</td>\n",
       "      <td>4738.153342</td>\n",
       "    </tr>\n",
       "    <tr>\n",
       "      <th>max</th>\n",
       "      <td>2787.746852</td>\n",
       "      <td>5688.666818</td>\n",
       "    </tr>\n",
       "  </tbody>\n",
       "</table>\n",
       "</div>"
      ],
      "text/plain": [
       "              META          SPY\n",
       "count  1259.000000  1259.000000\n",
       "mean   1833.141780  4123.328001\n",
       "std     488.538081   711.079240\n",
       "min     949.115691  2979.196284\n",
       "25%    1437.195666  3396.666075\n",
       "50%    1864.522013  4079.746446\n",
       "75%    2275.634527  4738.153342\n",
       "max    2787.746852  5688.666818"
      ]
     },
     "execution_count": 50,
     "metadata": {},
     "output_type": "execute_result"
    }
   ],
   "source": [
    "df_equalRisk_both.describe()"
   ]
  },
  {
   "cell_type": "code",
   "execution_count": 51,
   "id": "a38f0fa3-4b6c-482f-93e8-050dcdf9504f",
   "metadata": {},
   "outputs": [
    {
     "data": {
      "text/plain": [
       "META    0\n",
       "SPY     0\n",
       "dtype: int64"
      ]
     },
     "execution_count": 51,
     "metadata": {},
     "output_type": "execute_result"
    }
   ],
   "source": [
    "df_equalRisk_both.isnull().sum()"
   ]
  },
  {
   "cell_type": "code",
   "execution_count": 52,
   "id": "96be1c05-871c-426e-a0f8-3308f06de35a",
   "metadata": {},
   "outputs": [
    {
     "data": {
      "text/plain": [
       "<AxesSubplot:xlabel='Date'>"
      ]
     },
     "execution_count": 52,
     "metadata": {},
     "output_type": "execute_result"
    },
    {
     "data": {
      "image/png": "[encoded data removed]",
      "text/plain": [
       "<Figure size 1152x648 with 1 Axes>"
      ]
     },
     "metadata": {
      "needs_background": "light"
     },
     "output_type": "display_data"
    }
   ],
   "source": [
    "df_equalRisk_both.plot(figsize=(16, 9),color = ['#1f77b4','pink'])"
   ]
  },
  {
   "cell_type": "markdown",
   "id": "d63299b7-d8b9-491e-9ef5-5d1f38282e7c",
   "metadata": {},
   "source": [
    "#### Now which security outperforms? \n",
    "By looking at the plot we can see SPY outperforms META. Though SPY starts at a higher value than META it ends up at a much higher value than META. We further need to perform analysis to be sure that SPY is indeed a better performing security."
   ]
  },
  {
   "cell_type": "markdown",
   "id": "d0728e6a-3075-41f2-8639-13abe0e3bde7",
   "metadata": {},
   "source": [
    "### Analysis using Diff"
   ]
  },
  {
   "cell_type": "code",
   "execution_count": 53,
   "id": "483564d5-ea7c-4ab8-b085-9a75f547e6ca",
   "metadata": {
    "tags": []
   },
   "outputs": [
    {
     "data": {
      "text/html": [
       "<div>\n",
       "<style scoped>\n",
       "    .dataframe tbody tr th:only-of-type {\n",
       "        vertical-align: middle;\n",
       "    }\n",
       "\n",
       "    .dataframe tbody tr th {\n",
       "        vertical-align: top;\n",
       "    }\n",
       "\n",
       "    .dataframe thead th {\n",
       "        text-align: right;\n",
       "    }\n",
       "</style>\n",
       "<table border=\"1\" class=\"dataframe\">\n",
       "  <thead>\n",
       "    <tr style=\"text-align: right;\">\n",
       "      <th></th>\n",
       "      <th>META</th>\n",
       "      <th>SPY</th>\n",
       "    </tr>\n",
       "    <tr>\n",
       "      <th>Date</th>\n",
       "      <th></th>\n",
       "      <th></th>\n",
       "    </tr>\n",
       "  </thead>\n",
       "  <tbody>\n",
       "    <tr>\n",
       "      <th>2014-12-31</th>\n",
       "      <td>NaN</td>\n",
       "      <td>NaN</td>\n",
       "    </tr>\n",
       "    <tr>\n",
       "      <th>2015-01-02</th>\n",
       "      <td>5.511411</td>\n",
       "      <td>-1.756146</td>\n",
       "    </tr>\n",
       "    <tr>\n",
       "      <th>2015-01-05</th>\n",
       "      <td>-16.149635</td>\n",
       "      <td>-59.221447</td>\n",
       "    </tr>\n",
       "    <tr>\n",
       "      <th>2015-01-06</th>\n",
       "      <td>-13.329928</td>\n",
       "      <td>-30.329938</td>\n",
       "    </tr>\n",
       "    <tr>\n",
       "      <th>2015-01-07</th>\n",
       "      <td>0.000000</td>\n",
       "      <td>39.747788</td>\n",
       "    </tr>\n",
       "    <tr>\n",
       "      <th>...</th>\n",
       "      <td>...</td>\n",
       "      <td>...</td>\n",
       "    </tr>\n",
       "    <tr>\n",
       "      <th>2019-12-24</th>\n",
       "      <td>-13.586229</td>\n",
       "      <td>0.176260</td>\n",
       "    </tr>\n",
       "    <tr>\n",
       "      <th>2019-12-26</th>\n",
       "      <td>34.221972</td>\n",
       "      <td>30.122524</td>\n",
       "    </tr>\n",
       "    <tr>\n",
       "      <th>2019-12-27</th>\n",
       "      <td>3.973505</td>\n",
       "      <td>-1.410643</td>\n",
       "    </tr>\n",
       "    <tr>\n",
       "      <th>2019-12-30</th>\n",
       "      <td>-47.295599</td>\n",
       "      <td>-31.355222</td>\n",
       "    </tr>\n",
       "    <tr>\n",
       "      <th>2019-12-31</th>\n",
       "      <td>10.766424</td>\n",
       "      <td>13.739311</td>\n",
       "    </tr>\n",
       "  </tbody>\n",
       "</table>\n",
       "<p>1259 rows × 2 columns</p>\n",
       "</div>"
      ],
      "text/plain": [
       "                 META        SPY\n",
       "Date                            \n",
       "2014-12-31        NaN        NaN\n",
       "2015-01-02   5.511411  -1.756146\n",
       "2015-01-05 -16.149635 -59.221447\n",
       "2015-01-06 -13.329928 -30.329938\n",
       "2015-01-07   0.000000  39.747788\n",
       "...               ...        ...\n",
       "2019-12-24 -13.586229   0.176260\n",
       "2019-12-26  34.221972  30.122524\n",
       "2019-12-27   3.973505  -1.410643\n",
       "2019-12-30 -47.295599 -31.355222\n",
       "2019-12-31  10.766424  13.739311\n",
       "\n",
       "[1259 rows x 2 columns]"
      ]
     },
     "execution_count": 53,
     "metadata": {},
     "output_type": "execute_result"
    }
   ],
   "source": [
    "df_equalRisk_both.diff()"
   ]
  },
  {
   "cell_type": "code",
   "execution_count": 54,
   "id": "5d611fef",
   "metadata": {},
   "outputs": [
    {
     "data": {
      "text/html": [
       "<div>\n",
       "<style scoped>\n",
       "    .dataframe tbody tr th:only-of-type {\n",
       "        vertical-align: middle;\n",
       "    }\n",
       "\n",
       "    .dataframe tbody tr th {\n",
       "        vertical-align: top;\n",
       "    }\n",
       "\n",
       "    .dataframe thead th {\n",
       "        text-align: right;\n",
       "    }\n",
       "</style>\n",
       "<table border=\"1\" class=\"dataframe\">\n",
       "  <thead>\n",
       "    <tr style=\"text-align: right;\">\n",
       "      <th></th>\n",
       "      <th>META</th>\n",
       "      <th>SPY</th>\n",
       "    </tr>\n",
       "  </thead>\n",
       "  <tbody>\n",
       "    <tr>\n",
       "      <th>count</th>\n",
       "      <td>1258.000000</td>\n",
       "      <td>1258.000000</td>\n",
       "    </tr>\n",
       "    <tr>\n",
       "      <th>mean</th>\n",
       "      <td>1.296292</td>\n",
       "      <td>1.898762</td>\n",
       "    </tr>\n",
       "    <tr>\n",
       "      <th>std</th>\n",
       "      <td>34.548129</td>\n",
       "      <td>34.548129</td>\n",
       "    </tr>\n",
       "    <tr>\n",
       "      <th>min</th>\n",
       "      <td>-528.582508</td>\n",
       "      <td>-195.445006</td>\n",
       "    </tr>\n",
       "    <tr>\n",
       "      <th>25%</th>\n",
       "      <td>-12.528802</td>\n",
       "      <td>-11.330819</td>\n",
       "    </tr>\n",
       "    <tr>\n",
       "      <th>50%</th>\n",
       "      <td>1.345852</td>\n",
       "      <td>2.015905</td>\n",
       "    </tr>\n",
       "    <tr>\n",
       "      <th>75%</th>\n",
       "      <td>17.431436</td>\n",
       "      <td>19.050972</td>\n",
       "    </tr>\n",
       "    <tr>\n",
       "      <th>max</th>\n",
       "      <td>208.536336</td>\n",
       "      <td>204.688560</td>\n",
       "    </tr>\n",
       "  </tbody>\n",
       "</table>\n",
       "</div>"
      ],
      "text/plain": [
       "              META          SPY\n",
       "count  1258.000000  1258.000000\n",
       "mean      1.296292     1.898762\n",
       "std      34.548129    34.548129\n",
       "min    -528.582508  -195.445006\n",
       "25%     -12.528802   -11.330819\n",
       "50%       1.345852     2.015905\n",
       "75%      17.431436    19.050972\n",
       "max     208.536336   204.688560"
      ]
     },
     "execution_count": 54,
     "metadata": {},
     "output_type": "execute_result"
    }
   ],
   "source": [
    "df_equalRisk_both.diff().describe()"
   ]
  },
  {
   "cell_type": "code",
   "execution_count": 55,
   "id": "00dba281",
   "metadata": {},
   "outputs": [
    {
     "data": {
      "text/plain": [
       "META    1\n",
       "SPY     1\n",
       "dtype: int64"
      ]
     },
     "execution_count": 55,
     "metadata": {},
     "output_type": "execute_result"
    }
   ],
   "source": [
    "df_equalRisk_both.diff().isnull().sum()"
   ]
  },
  {
   "cell_type": "code",
   "execution_count": 56,
   "id": "f3a9cacf-22ef-4957-b928-39ce5735702e",
   "metadata": {},
   "outputs": [
    {
     "data": {
      "text/plain": [
       "<AxesSubplot:xlabel='Date'>"
      ]
     },
     "execution_count": 56,
     "metadata": {},
     "output_type": "execute_result"
    },
    {
     "data": {
      "image/png": "[encoded data removed]",
      "text/plain": [
       "<Figure size 720x864 with 1 Axes>"
      ]
     },
     "metadata": {
      "needs_background": "light"
     },
     "output_type": "display_data"
    }
   ],
   "source": [
    "df_equalRisk_both.diff().plot(figsize=(10, 12),color = ['#1f77b4','pink'])"
   ]
  },
  {
   "cell_type": "code",
   "execution_count": 57,
   "id": "9d2443f8-caad-450a-bd09-135764c8843c",
   "metadata": {},
   "outputs": [
    {
     "data": {
      "text/plain": [
       "META    1.296292\n",
       "SPY     1.898762\n",
       "dtype: float64"
      ]
     },
     "execution_count": 57,
     "metadata": {},
     "output_type": "execute_result"
    }
   ],
   "source": [
    "df_equalRisk_both.diff().mean()"
   ]
  },
  {
   "cell_type": "code",
   "execution_count": 58,
   "id": "8c795faf-91a5-4f38-9ac4-f12e86539d91",
   "metadata": {
    "tags": []
   },
   "outputs": [
    {
     "data": {
      "text/plain": [
       "META    34.548129\n",
       "SPY     34.548129\n",
       "dtype: float64"
      ]
     },
     "execution_count": 58,
     "metadata": {},
     "output_type": "execute_result"
    }
   ],
   "source": [
    "df_equalRisk_both.diff().std()"
   ]
  },
  {
   "cell_type": "markdown",
   "id": "8187b8fd-acc0-48bb-b388-82a18a9a3386",
   "metadata": {},
   "source": [
    "#### 18. Are the daily changes on the plot closer to each other now? Which security has the higher mean? What about the standard deviations? \n",
    "Yes, the daily changes on the plot are closer to each other due to risk equalisation. SPY has higher mean compared to META, while the standard deviation for both the securities is the same"
   ]
  },
  {
   "cell_type": "markdown",
   "id": "fc618368-6c09-4e6d-a16d-669c5258742c",
   "metadata": {},
   "source": [
    "### Demonstrate how you can borrow money for the extra investment in the better security and end up with a more valuable portfolio after repaying the loan with interest. "
   ]
  },
  {
   "cell_type": "code",
   "execution_count": 59,
   "id": "df761940",
   "metadata": {
    "colab": {
     "base_uri": "https://localhost:8080/"
    },
    "id": "df761940",
    "outputId": "7948ab8e-96cd-4c79-ed73-4c2fd6d02513"
   },
   "outputs": [
    {
     "data": {
      "text/plain": [
       "188.18233620264678"
      ]
     },
     "execution_count": 59,
     "metadata": {},
     "output_type": "execute_result"
    }
   ],
   "source": [
    "interest_total = 5 * (df_equalRisk_both['SPY'].iloc[0] - init) * 0.0165\n",
    "interest_total"
   ]
  },
  {
   "cell_type": "code",
   "execution_count": 60,
   "id": "78f9659a-17e1-4de0-b36f-d6185b6a0218",
   "metadata": {},
   "outputs": [
    {
     "data": {
      "text/plain": [
       "2469.1803507801833"
      ]
     },
     "execution_count": 60,
     "metadata": {},
     "output_type": "execute_result"
    }
   ],
   "source": [
    "interest_total + (df_equalRisk_both['SPY'].iloc[0] - init)"
   ]
  },
  {
   "cell_type": "code",
   "execution_count": 61,
   "id": "154a5de8",
   "metadata": {
    "colab": {
     "base_uri": "https://localhost:8080/"
    },
    "id": "154a5de8",
    "outputId": "d3e1e8b2-a554-4445-c067-bf73b4a40ee7"
   },
   "outputs": [
    {
     "data": {
      "text/plain": [
       "3200.459913726101"
      ]
     },
     "execution_count": 61,
     "metadata": {},
     "output_type": "execute_result"
    }
   ],
   "source": [
    "# end profit for SPY less loan and interest\n",
    "df_equalRisk_both['SPY'].iloc[-1] - (interest_total + (df_equalRisk_both['SPY'].iloc[0] - init))"
   ]
  },
  {
   "cell_type": "markdown",
   "id": "a388c41b-bf57-4606-a902-53c1d9db3c70",
   "metadata": {},
   "source": [
    "#### For SPY we started at a higher value of 3280 while META had initial investment of 1000 dollars. With the interest rate of 1.65 percent over 5 years we get the value of 188.18 dollars and the total amount owed is 2469.18 dollars. After subtracting the amount owed from the end value of SPY i.e, 5669.64 dollars, we get value of SPY as 3200.46 dollars which is higher than the end value of META which stands as 2630.74 dollars. We can infer that SPY is a better security even after risk equalisation.   "
   ]
  },
  {
   "cell_type": "markdown",
   "id": "6065624c-cfde-469d-8d39-df482a661059",
   "metadata": {},
   "source": [
    "### Calculation of Return Per Unit Risk"
   ]
  },
  {
   "cell_type": "code",
   "execution_count": 62,
   "id": "f137a7b5",
   "metadata": {
    "colab": {
     "base_uri": "https://localhost:8080/"
    },
    "id": "f137a7b5",
    "outputId": "4bc6686a-cde5-4166-984f-9081d093cc58"
   },
   "outputs": [
    {
     "data": {
      "text/plain": [
       "META    0.037521\n",
       "SPY     0.054960\n",
       "dtype: float64"
      ]
     },
     "execution_count": 62,
     "metadata": {},
     "output_type": "execute_result"
    }
   ],
   "source": [
    "#in the normalized portfolio\n",
    "df_norm_diff.mean()/df_norm_diff.std()"
   ]
  },
  {
   "cell_type": "code",
   "execution_count": 63,
   "id": "7125429e",
   "metadata": {
    "colab": {
     "base_uri": "https://localhost:8080/"
    },
    "id": "7125429e",
    "outputId": "f78f49df-7ac6-416b-be28-1c851cf7c29c"
   },
   "outputs": [
    {
     "data": {
      "text/plain": [
       "META    0.037521\n",
       "SPY     0.054960\n",
       "dtype: float64"
      ]
     },
     "execution_count": 63,
     "metadata": {},
     "output_type": "execute_result"
    }
   ],
   "source": [
    "#in the equal-risk portfolio\n",
    "df_equalRisk_both.diff().mean()/df_equalRisk_both.diff().std()"
   ]
  },
  {
   "cell_type": "markdown",
   "id": "a3118f7f-fedc-43df-92f9-806d4f72a800",
   "metadata": {},
   "source": [
    "***"
   ]
  }
 ],
 "metadata": {
  "colab": {
   "collapsed_sections": [],
   "provenance": []
  },
  "kernelspec": {
   "display_name": "Python 3",
   "language": "python",
   "name": "python3"
  },
  "language_info": {
   "codemirror_mode": {
    "name": "ipython",
    "version": 3
   },
   "file_extension": ".py",
   "mimetype": "text/x-python",
   "name": "python",
   "nbconvert_exporter": "python",
   "pygments_lexer": "ipython3",
   "version": "3.8.8"
  }
 },
 "nbformat": 4,
 "nbformat_minor": 5
}
